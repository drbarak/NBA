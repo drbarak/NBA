{
  "nbformat": 4,
  "nbformat_minor": 5,
  "metadata": {
    "kernelspec": {
      "display_name": "Python 3",
      "language": "python",
      "name": "python3"
    },
    "language_info": {
      "codemirror_mode": {
        "name": "ipython",
        "version": 3
      },
      "file_extension": ".py",
      "mimetype": "text/x-python",
      "name": "python",
      "nbconvert_exporter": "python",
      "pygments_lexer": "ipython3",
      "version": "3.8.5"
    },
    "colab": {
      "name": "NCAA2019.ipynb",
      "provenance": [],
      "collapsed_sections": [
        "responsible-disaster",
        "requested-secret",
        "1KAaN10CY_oA"
      ],
      "toc_visible": true,
      "include_colab_link": true
    }
  },
  "cells": [
    {
      "cell_type": "markdown",
      "metadata": {
        "id": "view-in-github",
        "colab_type": "text"
      },
      "source": [
        "<a href=\"https://colab.research.google.com/github/drbarak/NBA/blob/main/NCAA2019.ipynb\" target=\"_parent\"><img src=\"https://colab.research.google.com/assets/colab-badge.svg\" alt=\"Open In Colab\"/></a>"
      ]
    },
    {
      "cell_type": "code",
      "metadata": {
        "id": "umwApUBY7tA6"
      },
      "source": [
        "# see https://stackoverflow.com/questions/52292456/installing-jupyter-contrib-nbextension-on-google-colab\n",
        "#!pip install jupyter_contrib_nbextensions\n",
        "#!jupyter contrib nbextension install --user\n",
        "#!jupyter nbextension enable freeze/main"
      ],
      "id": "umwApUBY7tA6",
      "execution_count": null,
      "outputs": []
    },
    {
      "cell_type": "code",
      "metadata": {
        "id": "crucial-specialist"
      },
      "source": [
        "# General tools\n",
        "import pandas as pd\n",
        "import numpy as np\n",
        "import matplotlib.pyplot as plt\n",
        "\n",
        "from IPython.display import display\n",
        "p = print\n",
        "d = display"
      ],
      "id": "crucial-specialist",
      "execution_count": 46,
      "outputs": []
    },
    {
      "cell_type": "code",
      "metadata": {
        "id": "comfortable-missile"
      },
      "source": [
        "import sys\n",
        "#sys.path.append(\"D:/Dropbox/DataScience\")\n",
        "#from my_utilities import my_utils as my"
      ],
      "id": "comfortable-missile",
      "execution_count": 47,
      "outputs": []
    },
    {
      "cell_type": "code",
      "metadata": {
        "colab": {
          "base_uri": "https://localhost:8080/",
          "height": 17
        },
        "id": "medical-model",
        "outputId": "c60ec9a3-347a-4a96-a8cf-fbfdcd1b11e3"
      },
      "source": [
        "%%HTML\n",
        "<style type=\"text/css\">\n",
        "table.dataframe td, table.dataframe th {\n",
        "    border: 1px  black solid !important;\n",
        "  color: black !important;\n",
        "}\n",
        "</style>"
      ],
      "id": "medical-model",
      "execution_count": 48,
      "outputs": [
        {
          "output_type": "display_data",
          "data": {
            "text/html": [
              "<style type=\"text/css\">\n",
              "table.dataframe td, table.dataframe th {\n",
              "    border: 1px  black solid !important;\n",
              "  color: black !important;\n",
              "}\n",
              "</style>"
            ],
            "text/plain": [
              "<IPython.core.display.HTML object>"
            ]
          },
          "metadata": {
            "tags": []
          }
        }
      ]
    },
    {
      "cell_type": "code",
      "metadata": {
        "id": "boolean-hunter"
      },
      "source": [
        "import pickle\n",
        "\n",
        "def save_obj(obj, name ):\n",
        "    with open(name + '.pkl', 'wb+') as f:\n",
        "        pickle.dump(obj, f, pickle.HIGHEST_PROTOCOL)\n",
        "\n",
        "def load_obj(name ):\n",
        "    with open(name + '.pkl', 'rb') as f:\n",
        "        return pickle.load(f)"
      ],
      "id": "boolean-hunter",
      "execution_count": 49,
      "outputs": []
    },
    {
      "cell_type": "code",
      "metadata": {
        "id": "occasional-piano"
      },
      "source": [
        "pd.set_option(\"precision\", 2)\n",
        "ncaa_dir = '/content/drive/MyDrive/NCAA/2021/MDataFiles_Stage1/'  # so can easily modified later"
      ],
      "id": "occasional-piano",
      "execution_count": 50,
      "outputs": []
    },
    {
      "cell_type": "markdown",
      "metadata": {
        "id": "chinese-techno"
      },
      "source": [
        "https://www.kaggle.com/c/ncaam-march-mania-2021"
      ],
      "id": "chinese-techno"
    },
    {
      "cell_type": "markdown",
      "metadata": {
        "id": "placed-lithuania"
      },
      "source": [
        "> based on blog: https://www.kdnuggets.com/2017/03/machine-learning-march-madness.html\n",
        "\n",
        "> notebook: https://github.com/adeshpande3/March-Madness-2017/blob/master/March%20Madness%202017.ipynb"
      ],
      "id": "placed-lithuania"
    },
    {
      "cell_type": "markdown",
      "metadata": {
        "id": "announced-johnson"
      },
      "source": [
        "# Data"
      ],
      "id": "announced-johnson"
    },
    {
      "cell_type": "code",
      "metadata": {
        "id": "neutral-nightmare"
      },
      "source": [
        "year = 2019\n",
        "#year = 2018\n",
        "#year = 2017\n",
        "#year = 2016\n",
        "\n",
        "# changes of columns names from 2016-2017 to 2021\n",
        "Team = 'TeamID'\n",
        "Team_Name = 'TeamName'\n",
        "Team_Id = 'TeamID'\n",
        "Wteam = 'WTeamID'\n",
        "Wscore = 'WScore'\n",
        "Lteam = 'LTeamID'\n",
        "Lscore = 'LScore'\n",
        "Wloc = 'WLoc'\n",
        "Numot = 'NumOT'\n",
        "Wfgm3 = 'LFGM3'\n",
        "Lfgm3 = 'WFGM3'\n",
        "DayNum = 'DayNum'"
      ],
      "id": "neutral-nightmare",
      "execution_count": 51,
      "outputs": []
    },
    {
      "cell_type": "code",
      "metadata": {
        "id": "marked-ethnic"
      },
      "source": [
        "def get_data(fname):\n",
        "  teams_df = pd.read_csv(ncaa_dir + fname + '.csv')\n",
        "  p(fname + '_df', teams_df.shape)\n",
        "  d(teams_df.head())\n",
        "  return teams_df"
      ],
      "id": "marked-ethnic",
      "execution_count": 52,
      "outputs": []
    },
    {
      "cell_type": "markdown",
      "metadata": {
        "id": "universal-period"
      },
      "source": [
        "## 1. Teams"
      ],
      "id": "universal-period"
    },
    {
      "cell_type": "markdown",
      "metadata": {
        "id": "afraid-willow"
      },
      "source": [
        "FirstD1Season: Team first participation year\n",
        "\n",
        "LastD1Season: Team last participation year\n",
        "\n",
        "Because March Madness games are for Division-I game, each team might appear/disappear in each year."
      ],
      "id": "afraid-willow"
    },
    {
      "cell_type": "code",
      "metadata": {
        "colab": {
          "base_uri": "https://localhost:8080/",
          "height": 221
        },
        "id": "compressed-tobacco",
        "outputId": "1aa63c4f-809a-4a52-8e7e-fa8e61344015"
      },
      "source": [
        "teams_df = get_data('MTeams')"
      ],
      "id": "compressed-tobacco",
      "execution_count": null,
      "outputs": [
        {
          "output_type": "stream",
          "text": [
            "MTeams_df (371, 4)\n"
          ],
          "name": "stdout"
        },
        {
          "output_type": "display_data",
          "data": {
            "text/html": [
              "<div>\n",
              "<style scoped>\n",
              "    .dataframe tbody tr th:only-of-type {\n",
              "        vertical-align: middle;\n",
              "    }\n",
              "\n",
              "    .dataframe tbody tr th {\n",
              "        vertical-align: top;\n",
              "    }\n",
              "\n",
              "    .dataframe thead th {\n",
              "        text-align: right;\n",
              "    }\n",
              "</style>\n",
              "<table border=\"1\" class=\"dataframe\">\n",
              "  <thead>\n",
              "    <tr style=\"text-align: right;\">\n",
              "      <th></th>\n",
              "      <th>TeamID</th>\n",
              "      <th>TeamName</th>\n",
              "      <th>FirstD1Season</th>\n",
              "      <th>LastD1Season</th>\n",
              "    </tr>\n",
              "  </thead>\n",
              "  <tbody>\n",
              "    <tr>\n",
              "      <th>0</th>\n",
              "      <td>1101</td>\n",
              "      <td>Abilene Chr</td>\n",
              "      <td>2014</td>\n",
              "      <td>2021</td>\n",
              "    </tr>\n",
              "    <tr>\n",
              "      <th>1</th>\n",
              "      <td>1102</td>\n",
              "      <td>Air Force</td>\n",
              "      <td>1985</td>\n",
              "      <td>2021</td>\n",
              "    </tr>\n",
              "    <tr>\n",
              "      <th>2</th>\n",
              "      <td>1103</td>\n",
              "      <td>Akron</td>\n",
              "      <td>1985</td>\n",
              "      <td>2021</td>\n",
              "    </tr>\n",
              "    <tr>\n",
              "      <th>3</th>\n",
              "      <td>1104</td>\n",
              "      <td>Alabama</td>\n",
              "      <td>1985</td>\n",
              "      <td>2021</td>\n",
              "    </tr>\n",
              "    <tr>\n",
              "      <th>4</th>\n",
              "      <td>1105</td>\n",
              "      <td>Alabama A&amp;M</td>\n",
              "      <td>2000</td>\n",
              "      <td>2021</td>\n",
              "    </tr>\n",
              "  </tbody>\n",
              "</table>\n",
              "</div>"
            ],
            "text/plain": [
              "   TeamID     TeamName  FirstD1Season  LastD1Season\n",
              "0    1101  Abilene Chr           2014          2021\n",
              "1    1102    Air Force           1985          2021\n",
              "2    1103        Akron           1985          2021\n",
              "3    1104      Alabama           1985          2021\n",
              "4    1105  Alabama A&M           2000          2021"
            ]
          },
          "metadata": {
            "tags": []
          }
        }
      ]
    },
    {
      "cell_type": "code",
      "metadata": {
        "id": "8gAmd_I9zNaM",
        "colab": {
          "base_uri": "https://localhost:8080/"
        },
        "outputId": "943cefdd-83b1-4f65-c43b-a9554f155889"
      },
      "source": [
        "from google.colab import drive\n",
        "drive.mount('/content/drive')"
      ],
      "id": "8gAmd_I9zNaM",
      "execution_count": 54,
      "outputs": [
        {
          "output_type": "stream",
          "text": [
            "Mounted at /content/drive\n"
          ],
          "name": "stdout"
        }
      ]
    },
    {
      "cell_type": "code",
      "metadata": {
        "id": "intimate-reflection"
      },
      "source": [
        "teams_df[teams_df[Team_Name].str.find('Okl') >= 0]"
      ],
      "id": "intimate-reflection",
      "execution_count": null,
      "outputs": []
    },
    {
      "cell_type": "markdown",
      "metadata": {
        "id": "improved-court"
      },
      "source": [
        "## 2. Seasons"
      ],
      "id": "improved-court"
    },
    {
      "cell_type": "markdown",
      "metadata": {
        "id": "consolidated-victim"
      },
      "source": [
        "DayZero: All game dates have been aligned upon a common scale so that (each year) the Monday championship game of the men's tournament is on DayNum=154.\n",
        "\n",
        "RegionW, RegionX, Region Y, Region Z: Tournament proceeds with dividing US in 4 regions, but this division changes in year. These RegionW, X, Y, Z column represents 4 regions of each year. Note that RegionW & X, Y & Z have matchup in semifinals. Winner of WX and YZ regions have the final championship matchup."
      ],
      "id": "consolidated-victim"
    },
    {
      "cell_type": "code",
      "metadata": {
        "id": "still-dylan",
        "colab": {
          "base_uri": "https://localhost:8080/",
          "height": 221
        },
        "outputId": "2d27701d-46b4-47df-afd4-698449487fa5"
      },
      "source": [
        "seasons_df = get_data('MSeasons')"
      ],
      "id": "still-dylan",
      "execution_count": null,
      "outputs": [
        {
          "output_type": "stream",
          "text": [
            "MSeasons_df (37, 6)\n"
          ],
          "name": "stdout"
        },
        {
          "output_type": "display_data",
          "data": {
            "text/html": [
              "<div>\n",
              "<style scoped>\n",
              "    .dataframe tbody tr th:only-of-type {\n",
              "        vertical-align: middle;\n",
              "    }\n",
              "\n",
              "    .dataframe tbody tr th {\n",
              "        vertical-align: top;\n",
              "    }\n",
              "\n",
              "    .dataframe thead th {\n",
              "        text-align: right;\n",
              "    }\n",
              "</style>\n",
              "<table border=\"1\" class=\"dataframe\">\n",
              "  <thead>\n",
              "    <tr style=\"text-align: right;\">\n",
              "      <th></th>\n",
              "      <th>Season</th>\n",
              "      <th>DayZero</th>\n",
              "      <th>RegionW</th>\n",
              "      <th>RegionX</th>\n",
              "      <th>RegionY</th>\n",
              "      <th>RegionZ</th>\n",
              "    </tr>\n",
              "  </thead>\n",
              "  <tbody>\n",
              "    <tr>\n",
              "      <th>0</th>\n",
              "      <td>1985</td>\n",
              "      <td>10/29/1984</td>\n",
              "      <td>East</td>\n",
              "      <td>West</td>\n",
              "      <td>Midwest</td>\n",
              "      <td>Southeast</td>\n",
              "    </tr>\n",
              "    <tr>\n",
              "      <th>1</th>\n",
              "      <td>1986</td>\n",
              "      <td>10/28/1985</td>\n",
              "      <td>East</td>\n",
              "      <td>Midwest</td>\n",
              "      <td>Southeast</td>\n",
              "      <td>West</td>\n",
              "    </tr>\n",
              "    <tr>\n",
              "      <th>2</th>\n",
              "      <td>1987</td>\n",
              "      <td>10/27/1986</td>\n",
              "      <td>East</td>\n",
              "      <td>Southeast</td>\n",
              "      <td>Midwest</td>\n",
              "      <td>West</td>\n",
              "    </tr>\n",
              "    <tr>\n",
              "      <th>3</th>\n",
              "      <td>1988</td>\n",
              "      <td>11/2/1987</td>\n",
              "      <td>East</td>\n",
              "      <td>Midwest</td>\n",
              "      <td>Southeast</td>\n",
              "      <td>West</td>\n",
              "    </tr>\n",
              "    <tr>\n",
              "      <th>4</th>\n",
              "      <td>1989</td>\n",
              "      <td>10/31/1988</td>\n",
              "      <td>East</td>\n",
              "      <td>West</td>\n",
              "      <td>Midwest</td>\n",
              "      <td>Southeast</td>\n",
              "    </tr>\n",
              "  </tbody>\n",
              "</table>\n",
              "</div>"
            ],
            "text/plain": [
              "   Season     DayZero RegionW    RegionX    RegionY    RegionZ\n",
              "0    1985  10/29/1984    East       West    Midwest  Southeast\n",
              "1    1986  10/28/1985    East    Midwest  Southeast       West\n",
              "2    1987  10/27/1986    East  Southeast    Midwest       West\n",
              "3    1988   11/2/1987    East    Midwest  Southeast       West\n",
              "4    1989  10/31/1988    East       West    Midwest  Southeast"
            ]
          },
          "metadata": {
            "tags": []
          }
        }
      ]
    },
    {
      "cell_type": "markdown",
      "metadata": {
        "id": "faced-bunny"
      },
      "source": [
        "## 3. Seeds"
      ],
      "id": "faced-bunny"
    },
    {
      "cell_type": "markdown",
      "metadata": {
        "id": "asian-gnome"
      },
      "source": [
        "Seed column string consists of Region (W, X, Y, Z) + seed number (01 ~ 16). Seed number 01 is considered as most \"strong\". For play-in games, which occurs before main tournament, fourth character (a or b) is added.\n",
        "\n",
        "Before tournament, 68 teams will be reduced to 64 teams, so 4 teams have pre-tournament match up. \"a\" and \"b\" is the match up of those teams."
      ],
      "id": "asian-gnome"
    },
    {
      "cell_type": "code",
      "metadata": {
        "id": "stone-program"
      },
      "source": [
        "tourneySeeds_df = get_data('MNCAATourneySeeds')"
      ],
      "id": "stone-program",
      "execution_count": null,
      "outputs": []
    },
    {
      "cell_type": "code",
      "metadata": {
        "id": "concerned-reply"
      },
      "source": [
        "tourneySeeds_df.tail()"
      ],
      "id": "concerned-reply",
      "execution_count": null,
      "outputs": []
    },
    {
      "cell_type": "code",
      "metadata": {
        "id": "willing-hostel"
      },
      "source": [
        "team = 1104  # alabama\n",
        "team = 1328  # Oklahoma\n",
        "team = 1181  # \n",
        "\n",
        "mask = (tourneySeeds_df.Season == year) & (tourneySeeds_df[Team] == team)\n",
        "tourneySeeds_df[mask].Seed.str[1:]"
      ],
      "id": "willing-hostel",
      "execution_count": null,
      "outputs": []
    },
    {
      "cell_type": "markdown",
      "metadata": {
        "id": "adequate-puppy"
      },
      "source": [
        "## 4. Regular Season Results"
      ],
      "id": "adequate-puppy"
    },
    {
      "cell_type": "markdown",
      "metadata": {
        "id": "stopped-variation"
      },
      "source": [
        "For each year, we have regular season at first, and only 68 teams survive for NCAA tournament, also called March Madness (In parallel, some teams who cannot proceed March Madness participates Secondary tournament). The game result of these 3 are stored in separated files.\n",
        "\n",
        "\"Compact results\" data stores important information for win/lose, while \"Detailed results\" data (explained later) stores much precise information. Let's see Compact results data here."
      ],
      "id": "stopped-variation"
    },
    {
      "cell_type": "markdown",
      "metadata": {
        "id": "silent-production"
      },
      "source": [
        "Store matchup date, winner/loser's team id & score.\n",
        "\n",
        "Wteam: id of winning team\n",
        "Lteam: id of loosing team\n",
        "WScore: is the winner score at the end of game\n",
        "LScore: is the loser score at the end of game\n",
        "WLoc: the \"location\" of winning team, either (\"H\", \"A\", \"N\") - \"H\" is home, \"A\" is Away (visiting to opponent's site), \"N\" is neutral court.\n",
        "NumOT: the number of overtime periods (when the score is same after 4-period of game, we continue the game with overtime period in basketball.)\n",
        "\n",
        "The 4 columns, Season, DayNum, WTeamID and LTeamID uniquely identifies the game. This fact is very important when you want to merge information of other files."
      ],
      "id": "silent-production"
    },
    {
      "cell_type": "code",
      "metadata": {
        "id": "convenient-toronto",
        "colab": {
          "base_uri": "https://localhost:8080/",
          "height": 221
        },
        "outputId": "05eed97f-baf2-459c-877e-b3b80cc38564"
      },
      "source": [
        "regularSeasonCompactResults_df = get_data('MRegularSeasonCompactResults')"
      ],
      "id": "convenient-toronto",
      "execution_count": 55,
      "outputs": [
        {
          "output_type": "stream",
          "text": [
            "MRegularSeasonCompactResults_df (166880, 8)\n"
          ],
          "name": "stdout"
        },
        {
          "output_type": "display_data",
          "data": {
            "text/html": [
              "<div>\n",
              "<style scoped>\n",
              "    .dataframe tbody tr th:only-of-type {\n",
              "        vertical-align: middle;\n",
              "    }\n",
              "\n",
              "    .dataframe tbody tr th {\n",
              "        vertical-align: top;\n",
              "    }\n",
              "\n",
              "    .dataframe thead th {\n",
              "        text-align: right;\n",
              "    }\n",
              "</style>\n",
              "<table border=\"1\" class=\"dataframe\">\n",
              "  <thead>\n",
              "    <tr style=\"text-align: right;\">\n",
              "      <th></th>\n",
              "      <th>Season</th>\n",
              "      <th>DayNum</th>\n",
              "      <th>WTeamID</th>\n",
              "      <th>WScore</th>\n",
              "      <th>LTeamID</th>\n",
              "      <th>LScore</th>\n",
              "      <th>WLoc</th>\n",
              "      <th>NumOT</th>\n",
              "    </tr>\n",
              "  </thead>\n",
              "  <tbody>\n",
              "    <tr>\n",
              "      <th>0</th>\n",
              "      <td>1985</td>\n",
              "      <td>20</td>\n",
              "      <td>1228</td>\n",
              "      <td>81</td>\n",
              "      <td>1328</td>\n",
              "      <td>64</td>\n",
              "      <td>N</td>\n",
              "      <td>0</td>\n",
              "    </tr>\n",
              "    <tr>\n",
              "      <th>1</th>\n",
              "      <td>1985</td>\n",
              "      <td>25</td>\n",
              "      <td>1106</td>\n",
              "      <td>77</td>\n",
              "      <td>1354</td>\n",
              "      <td>70</td>\n",
              "      <td>H</td>\n",
              "      <td>0</td>\n",
              "    </tr>\n",
              "    <tr>\n",
              "      <th>2</th>\n",
              "      <td>1985</td>\n",
              "      <td>25</td>\n",
              "      <td>1112</td>\n",
              "      <td>63</td>\n",
              "      <td>1223</td>\n",
              "      <td>56</td>\n",
              "      <td>H</td>\n",
              "      <td>0</td>\n",
              "    </tr>\n",
              "    <tr>\n",
              "      <th>3</th>\n",
              "      <td>1985</td>\n",
              "      <td>25</td>\n",
              "      <td>1165</td>\n",
              "      <td>70</td>\n",
              "      <td>1432</td>\n",
              "      <td>54</td>\n",
              "      <td>H</td>\n",
              "      <td>0</td>\n",
              "    </tr>\n",
              "    <tr>\n",
              "      <th>4</th>\n",
              "      <td>1985</td>\n",
              "      <td>25</td>\n",
              "      <td>1192</td>\n",
              "      <td>86</td>\n",
              "      <td>1447</td>\n",
              "      <td>74</td>\n",
              "      <td>H</td>\n",
              "      <td>0</td>\n",
              "    </tr>\n",
              "  </tbody>\n",
              "</table>\n",
              "</div>"
            ],
            "text/plain": [
              "   Season  DayNum  WTeamID  WScore  LTeamID  LScore WLoc  NumOT\n",
              "0    1985      20     1228      81     1328      64    N      0\n",
              "1    1985      25     1106      77     1354      70    H      0\n",
              "2    1985      25     1112      63     1223      56    H      0\n",
              "3    1985      25     1165      70     1432      54    H      0\n",
              "4    1985      25     1192      86     1447      74    H      0"
            ]
          },
          "metadata": {
            "tags": []
          }
        }
      ]
    },
    {
      "cell_type": "markdown",
      "metadata": {
        "id": "adverse-bikini"
      },
      "source": [
        "### Detailed"
      ],
      "id": "adverse-bikini"
    },
    {
      "cell_type": "markdown",
      "metadata": {
        "id": "japanese-vitamin"
      },
      "source": [
        "This section provides game-by-game stats at a team level (free throws attempted, defensive rebounds, turnovers, etc.) for all regular season, conference tournament, and NCAA® tournament games since the 2002-03 season.\n",
        "\n",
        "Team Box Scores are provided in \"Detailed Results\" files rather than \"Compact Results\" files.\n",
        "\n",
        "Compact results are collected from 1985, but details results are collected since 2003, so the number of rows in the data are different.\n",
        "\n",
        "But 8 columns (Season, DayNum, WTeamID, WScore, LTeamID, LScore, WLoc, and NumOT) are exactly same value with CompactResults file.\n",
        "\n",
        "Additional columns stores more precise information:\n",
        "\n",
        "WFGM - field goals made (by the winning team)\n",
        "WFGA - field goals attempted (by the winning team)\n",
        "WFGM3 - three pointers made (by the winning team)\n",
        "WFGA3 - three pointers attempted (by the winning team)\n",
        "WFTM - free throws made (by the winning team)\n",
        "WFTA - free throws attempted (by the winning team)\n",
        "WOR - offensive rebounds (pulled by the winning team)\n",
        "WDR - defensive rebounds (pulled by the winning team)\n",
        "WAst - assists (by the winning team)\n",
        "WTO - turnovers committed (by the winning team)\n",
        "WStl - steals (accomplished by the winning team)\n",
        "WBlk - blocks (accomplished by the winning team)\n",
        "WPF - personal fouls committed (by the winning team)\n",
        "\n",
        "same set of stats from the perspective of the losing team starting with \"L\".\n",
        "\n",
        "For example in top row WFGM=27, WFGM3=3, WFTM=11 and WScore=68.\n",
        "\n",
        "This means (27-3)=24 goals with 2 points shot, 3 goals with 3 points shot, and 11 goals with 1 point free throw shot.\n",
        "In total 24 * 2 + 3 * 3 + 11 * 1 = 68."
      ],
      "id": "japanese-vitamin"
    },
    {
      "cell_type": "code",
      "metadata": {
        "id": "norman-bookmark",
        "colab": {
          "base_uri": "https://localhost:8080/",
          "height": 241
        },
        "outputId": "faca1d5c-ccd1-4de9-b81c-5fe84de0c2af"
      },
      "source": [
        "regularSeasonDetailedResults_df = get_data('MRegularSeasonDetailedResults')"
      ],
      "id": "norman-bookmark",
      "execution_count": 56,
      "outputs": [
        {
          "output_type": "stream",
          "text": [
            "MRegularSeasonDetailedResults_df (92832, 34)\n"
          ],
          "name": "stdout"
        },
        {
          "output_type": "display_data",
          "data": {
            "text/html": [
              "<div>\n",
              "<style scoped>\n",
              "    .dataframe tbody tr th:only-of-type {\n",
              "        vertical-align: middle;\n",
              "    }\n",
              "\n",
              "    .dataframe tbody tr th {\n",
              "        vertical-align: top;\n",
              "    }\n",
              "\n",
              "    .dataframe thead th {\n",
              "        text-align: right;\n",
              "    }\n",
              "</style>\n",
              "<table border=\"1\" class=\"dataframe\">\n",
              "  <thead>\n",
              "    <tr style=\"text-align: right;\">\n",
              "      <th></th>\n",
              "      <th>Season</th>\n",
              "      <th>DayNum</th>\n",
              "      <th>WTeamID</th>\n",
              "      <th>WScore</th>\n",
              "      <th>LTeamID</th>\n",
              "      <th>LScore</th>\n",
              "      <th>WLoc</th>\n",
              "      <th>NumOT</th>\n",
              "      <th>WFGM</th>\n",
              "      <th>WFGA</th>\n",
              "      <th>WFGM3</th>\n",
              "      <th>WFGA3</th>\n",
              "      <th>WFTM</th>\n",
              "      <th>WFTA</th>\n",
              "      <th>WOR</th>\n",
              "      <th>WDR</th>\n",
              "      <th>WAst</th>\n",
              "      <th>WTO</th>\n",
              "      <th>WStl</th>\n",
              "      <th>WBlk</th>\n",
              "      <th>WPF</th>\n",
              "      <th>LFGM</th>\n",
              "      <th>LFGA</th>\n",
              "      <th>LFGM3</th>\n",
              "      <th>LFGA3</th>\n",
              "      <th>LFTM</th>\n",
              "      <th>LFTA</th>\n",
              "      <th>LOR</th>\n",
              "      <th>LDR</th>\n",
              "      <th>LAst</th>\n",
              "      <th>LTO</th>\n",
              "      <th>LStl</th>\n",
              "      <th>LBlk</th>\n",
              "      <th>LPF</th>\n",
              "    </tr>\n",
              "  </thead>\n",
              "  <tbody>\n",
              "    <tr>\n",
              "      <th>0</th>\n",
              "      <td>2003</td>\n",
              "      <td>10</td>\n",
              "      <td>1104</td>\n",
              "      <td>68</td>\n",
              "      <td>1328</td>\n",
              "      <td>62</td>\n",
              "      <td>N</td>\n",
              "      <td>0</td>\n",
              "      <td>27</td>\n",
              "      <td>58</td>\n",
              "      <td>3</td>\n",
              "      <td>14</td>\n",
              "      <td>11</td>\n",
              "      <td>18</td>\n",
              "      <td>14</td>\n",
              "      <td>24</td>\n",
              "      <td>13</td>\n",
              "      <td>23</td>\n",
              "      <td>7</td>\n",
              "      <td>1</td>\n",
              "      <td>22</td>\n",
              "      <td>22</td>\n",
              "      <td>53</td>\n",
              "      <td>2</td>\n",
              "      <td>10</td>\n",
              "      <td>16</td>\n",
              "      <td>22</td>\n",
              "      <td>10</td>\n",
              "      <td>22</td>\n",
              "      <td>8</td>\n",
              "      <td>18</td>\n",
              "      <td>9</td>\n",
              "      <td>2</td>\n",
              "      <td>20</td>\n",
              "    </tr>\n",
              "    <tr>\n",
              "      <th>1</th>\n",
              "      <td>2003</td>\n",
              "      <td>10</td>\n",
              "      <td>1272</td>\n",
              "      <td>70</td>\n",
              "      <td>1393</td>\n",
              "      <td>63</td>\n",
              "      <td>N</td>\n",
              "      <td>0</td>\n",
              "      <td>26</td>\n",
              "      <td>62</td>\n",
              "      <td>8</td>\n",
              "      <td>20</td>\n",
              "      <td>10</td>\n",
              "      <td>19</td>\n",
              "      <td>15</td>\n",
              "      <td>28</td>\n",
              "      <td>16</td>\n",
              "      <td>13</td>\n",
              "      <td>4</td>\n",
              "      <td>4</td>\n",
              "      <td>18</td>\n",
              "      <td>24</td>\n",
              "      <td>67</td>\n",
              "      <td>6</td>\n",
              "      <td>24</td>\n",
              "      <td>9</td>\n",
              "      <td>20</td>\n",
              "      <td>20</td>\n",
              "      <td>25</td>\n",
              "      <td>7</td>\n",
              "      <td>12</td>\n",
              "      <td>8</td>\n",
              "      <td>6</td>\n",
              "      <td>16</td>\n",
              "    </tr>\n",
              "    <tr>\n",
              "      <th>2</th>\n",
              "      <td>2003</td>\n",
              "      <td>11</td>\n",
              "      <td>1266</td>\n",
              "      <td>73</td>\n",
              "      <td>1437</td>\n",
              "      <td>61</td>\n",
              "      <td>N</td>\n",
              "      <td>0</td>\n",
              "      <td>24</td>\n",
              "      <td>58</td>\n",
              "      <td>8</td>\n",
              "      <td>18</td>\n",
              "      <td>17</td>\n",
              "      <td>29</td>\n",
              "      <td>17</td>\n",
              "      <td>26</td>\n",
              "      <td>15</td>\n",
              "      <td>10</td>\n",
              "      <td>5</td>\n",
              "      <td>2</td>\n",
              "      <td>25</td>\n",
              "      <td>22</td>\n",
              "      <td>73</td>\n",
              "      <td>3</td>\n",
              "      <td>26</td>\n",
              "      <td>14</td>\n",
              "      <td>23</td>\n",
              "      <td>31</td>\n",
              "      <td>22</td>\n",
              "      <td>9</td>\n",
              "      <td>12</td>\n",
              "      <td>2</td>\n",
              "      <td>5</td>\n",
              "      <td>23</td>\n",
              "    </tr>\n",
              "    <tr>\n",
              "      <th>3</th>\n",
              "      <td>2003</td>\n",
              "      <td>11</td>\n",
              "      <td>1296</td>\n",
              "      <td>56</td>\n",
              "      <td>1457</td>\n",
              "      <td>50</td>\n",
              "      <td>N</td>\n",
              "      <td>0</td>\n",
              "      <td>18</td>\n",
              "      <td>38</td>\n",
              "      <td>3</td>\n",
              "      <td>9</td>\n",
              "      <td>17</td>\n",
              "      <td>31</td>\n",
              "      <td>6</td>\n",
              "      <td>19</td>\n",
              "      <td>11</td>\n",
              "      <td>12</td>\n",
              "      <td>14</td>\n",
              "      <td>2</td>\n",
              "      <td>18</td>\n",
              "      <td>18</td>\n",
              "      <td>49</td>\n",
              "      <td>6</td>\n",
              "      <td>22</td>\n",
              "      <td>8</td>\n",
              "      <td>15</td>\n",
              "      <td>17</td>\n",
              "      <td>20</td>\n",
              "      <td>9</td>\n",
              "      <td>19</td>\n",
              "      <td>4</td>\n",
              "      <td>3</td>\n",
              "      <td>23</td>\n",
              "    </tr>\n",
              "    <tr>\n",
              "      <th>4</th>\n",
              "      <td>2003</td>\n",
              "      <td>11</td>\n",
              "      <td>1400</td>\n",
              "      <td>77</td>\n",
              "      <td>1208</td>\n",
              "      <td>71</td>\n",
              "      <td>N</td>\n",
              "      <td>0</td>\n",
              "      <td>30</td>\n",
              "      <td>61</td>\n",
              "      <td>6</td>\n",
              "      <td>14</td>\n",
              "      <td>11</td>\n",
              "      <td>13</td>\n",
              "      <td>17</td>\n",
              "      <td>22</td>\n",
              "      <td>12</td>\n",
              "      <td>14</td>\n",
              "      <td>4</td>\n",
              "      <td>4</td>\n",
              "      <td>20</td>\n",
              "      <td>24</td>\n",
              "      <td>62</td>\n",
              "      <td>6</td>\n",
              "      <td>16</td>\n",
              "      <td>17</td>\n",
              "      <td>27</td>\n",
              "      <td>21</td>\n",
              "      <td>15</td>\n",
              "      <td>12</td>\n",
              "      <td>10</td>\n",
              "      <td>7</td>\n",
              "      <td>1</td>\n",
              "      <td>14</td>\n",
              "    </tr>\n",
              "  </tbody>\n",
              "</table>\n",
              "</div>"
            ],
            "text/plain": [
              "   Season  DayNum  WTeamID  WScore  LTeamID  ...  LAst LTO  LStl  LBlk  LPF\n",
              "0    2003      10     1104      68     1328  ...     8  18     9     2   20\n",
              "1    2003      10     1272      70     1393  ...     7  12     8     6   16\n",
              "2    2003      11     1266      73     1437  ...     9  12     2     5   23\n",
              "3    2003      11     1296      56     1457  ...     9  19     4     3   23\n",
              "4    2003      11     1400      77     1208  ...    12  10     7     1   14\n",
              "\n",
              "[5 rows x 34 columns]"
            ]
          },
          "metadata": {
            "tags": []
          }
        }
      ]
    },
    {
      "cell_type": "code",
      "metadata": {
        "id": "sustained-channels"
      },
      "source": [
        "#get # wins of a team for a given year\n",
        "df = regularSeasonDetailedResults_df\n",
        "# data for each game in a given year\n",
        "df_year = df[df.Season == year]\n",
        "# data for the team in that year\n",
        "df_team = df_year[(df_year[Wteam] == team) | (df_year[Lteam] == team)]\n",
        "numGames = len(df_team)\n",
        "\n",
        "# data for games won/lost in that year\n",
        "df_games_won = df_team[df_team[Wteam] == team]\n",
        "numWins = len(df_games_won)\n",
        "totPtsWin = df_games_won[Wscore].sum()\n",
        "avgPtsWin = totPtsWin / numWins\n",
        "tot3ptsWin = df_games_won[Wfgm3].sum()\n",
        "avg3ptsWin = tot3ptsWin / numWins\n",
        "winDays = df_games_won[DayNum].sum()\n",
        "p(winDays / numWins)\n",
        "\n",
        "df_games_lost = df_team[df_team[Lteam] == team]\n",
        "numLoses = len(df_games_lost)\n",
        "totPtsLoss = df_games_lost[Lscore].sum()\n",
        "avgPtsLoss = totPtsLoss / numLoses\n",
        "avg3ptsLoss = df_games_lost[Lfgm3].mean()\n",
        "\n",
        "avgPtsGame= (totPtsWin + totPtsLoss) / numGames \n",
        "totTotPtsGame = totPtsWin + totPtsLoss\n",
        "avgTotPtsGame = totTotPtsGame / numGames\n",
        "avg3ptsGame = (df_team[Wfgm3] + df_team[Wfgm3]).mean()\n",
        "\n",
        "format_ =  ':\\t{} {} {:0.2f}'\n",
        "p('Tot'+ format_.format(numGames, avgPtsGame, avgTotPtsGame))\n",
        "p('Win'+ format_.format(numWins, totPtsWin, avgPtsWin))\n",
        "p('Loss'+ format_.format(numLoses, totPtsLoss, avgPtsLoss))"
      ],
      "id": "sustained-channels",
      "execution_count": null,
      "outputs": []
    },
    {
      "cell_type": "code",
      "metadata": {
        "id": "straight-talent"
      },
      "source": [
        "df_team.columns"
      ],
      "id": "straight-talent",
      "execution_count": null,
      "outputs": []
    },
    {
      "cell_type": "code",
      "metadata": {
        "id": "violent-vinyl"
      },
      "source": [
        "tourneySeeds_df[tourneySeeds_df.Season == year]"
      ],
      "id": "violent-vinyl",
      "execution_count": null,
      "outputs": []
    },
    {
      "cell_type": "code",
      "metadata": {
        "id": "enhanced-injection"
      },
      "source": [
        "mask = (tourneySeeds_df.Season == year) & (tourneySeeds_df[Team] == team)\n",
        "seed = 0 if len(tourneySeeds_df[mask].Seed) == 0 else int(tourneySeeds_df[mask].Seed.str[1:3])\n",
        "p(seed)\n",
        "#games_df['Seed'] = seed "
      ],
      "id": "enhanced-injection",
      "execution_count": null,
      "outputs": []
    },
    {
      "cell_type": "markdown",
      "metadata": {
        "id": "experienced-census"
      },
      "source": [
        "## 5. Tournament Results"
      ],
      "id": "experienced-census"
    },
    {
      "cell_type": "markdown",
      "metadata": {
        "id": "referenced-application"
      },
      "source": [
        "Same format as regular season file\n",
        "For tournament all games are neutral site (so WLoc is always N)."
      ],
      "id": "referenced-application"
    },
    {
      "cell_type": "code",
      "metadata": {
        "id": "convenient-sailing"
      },
      "source": [
        "tourneyCompactResults_df = get_data('MNCAATourneyCompactResults')"
      ],
      "id": "convenient-sailing",
      "execution_count": null,
      "outputs": []
    },
    {
      "cell_type": "code",
      "metadata": {
        "id": "imported-glenn"
      },
      "source": [
        "tourneyCompactResults_df.tail()"
      ],
      "id": "imported-glenn",
      "execution_count": null,
      "outputs": []
    },
    {
      "cell_type": "code",
      "metadata": {
        "id": "demonstrated-newark"
      },
      "source": [
        "tourneyDetailedResults_df = get_data('MNCAATourneyDetailedResults')"
      ],
      "id": "demonstrated-newark",
      "execution_count": null,
      "outputs": []
    },
    {
      "cell_type": "code",
      "metadata": {
        "id": "controlled-belle"
      },
      "source": [
        "tourneyDetailedResults_df[(tourneyDetailedResults_df.Season==year) & ((tourneyDetailedResults_df[Wteam] == team) | (tourneyDetailedResults_df[Lteam] == team))]"
      ],
      "id": "controlled-belle",
      "execution_count": null,
      "outputs": []
    },
    {
      "cell_type": "code",
      "metadata": {
        "id": "alpine-settle"
      },
      "source": [
        "#games_df['lastTourney'] = 1 if len(tourneyDetailedResults_df[(tourneyDetailedResults_df.Season==year) & ((tourneyDetailedResults_df[Wteam] == team) | (tourneyDetailedResults_df[Lteam] == team))]) > 0 else 0"
      ],
      "id": "alpine-settle",
      "execution_count": null,
      "outputs": []
    },
    {
      "cell_type": "code",
      "metadata": {
        "id": "stock-mortality"
      },
      "source": [
        "#games_df['lastTourneyWins'] = len(tourneyDetailedResults_df[(tourneyDetailedResults_df.Season==year) & (tourneyDetailedResults_df[Wteam] == team)])"
      ],
      "id": "stock-mortality",
      "execution_count": null,
      "outputs": []
    },
    {
      "cell_type": "code",
      "metadata": {
        "id": "metropolitan-construction"
      },
      "source": [
        "#games_df['prevTourneyWins'] = len(tourneyDetailedResults_df[(tourneyDetailedResults_df.Season < year) & (tourneyDetailedResults_df[Wteam] == team)])"
      ],
      "id": "metropolitan-construction",
      "execution_count": null,
      "outputs": []
    },
    {
      "cell_type": "code",
      "metadata": {
        "id": "stylish-therapist"
      },
      "source": [
        "#games_df"
      ],
      "id": "stylish-therapist",
      "execution_count": null,
      "outputs": []
    },
    {
      "cell_type": "markdown",
      "metadata": {
        "id": "parliamentary-triple"
      },
      "source": [
        "## 6. Tournament Slots"
      ],
      "id": "parliamentary-triple"
    },
    {
      "cell_type": "markdown",
      "metadata": {
        "id": "covered-touch"
      },
      "source": [
        "NCAA tournament is organized that it has consistent tournament structure in each year.\n",
        "Below \"slots\" information indicates which part of the tournament bracket structure each seed team in.\n",
        "\n",
        "\"GameSlot\" shows \"most strongest seed slot\" so when W11 team wins to W6 in the previous round, this team's game slot is recorded as W6 in the later round.\n",
        "\n",
        "The tournament slot can be understood by the figure provided in official NCAA website, which is introduced in this kernel by @headsortails.\n",
        "First Round=1, Second Round=2, Regional Semifinal=3, Regional Final=4, National Semifinal=5, 6=National championship"
      ],
      "id": "covered-touch"
    },
    {
      "cell_type": "code",
      "metadata": {
        "id": "acquired-length"
      },
      "source": [
        "tourneySlots_df = get_data('MNCAATourneySlots')"
      ],
      "id": "acquired-length",
      "execution_count": null,
      "outputs": []
    },
    {
      "cell_type": "markdown",
      "metadata": {
        "id": "featured-mayor"
      },
      "source": [
        "![image.png](attachment:f4d10d59-2029-45f8-84ee-4737a42a31a9.png)"
      ],
      "id": "featured-mayor"
    },
    {
      "cell_type": "markdown",
      "metadata": {
        "id": "norwegian-might"
      },
      "source": [
        "For example, Round 1 of Region W in Season A consists of following 8 matchups."
      ],
      "id": "norwegian-might"
    },
    {
      "cell_type": "code",
      "metadata": {
        "id": "constitutional-sacramento"
      },
      "source": [
        "tourneySlots_df[(tourneySlots_df['Season'] == 1985) & (tourneySlots_df['Slot'].str.startswith('R1W'))]"
      ],
      "id": "constitutional-sacramento",
      "execution_count": null,
      "outputs": []
    },
    {
      "cell_type": "markdown",
      "metadata": {
        "id": "responsible-disaster"
      },
      "source": [
        "## 7. Sample submission"
      ],
      "id": "responsible-disaster"
    },
    {
      "cell_type": "code",
      "metadata": {
        "id": "sought-short"
      },
      "source": [
        "sampleSubmission = get_data('MSampleSubmissionStage1')\n"
      ],
      "id": "sought-short",
      "execution_count": null,
      "outputs": []
    },
    {
      "cell_type": "markdown",
      "metadata": {
        "id": "acute-province"
      },
      "source": [
        "# Prepare season data"
      ],
      "id": "acute-province"
    },
    {
      "cell_type": "code",
      "metadata": {
        "id": "QfBDrRLN2Mn6"
      },
      "source": [
        "  def get_seed(year, team):\n",
        "    ## prev year turney\n",
        "    mask = (tourneySeeds_df.Season == year - 1) & (tourneySeeds_df[Team] == team)\n",
        "    df_seed = tourneySeeds_df[mask]\n",
        "    seed = 0 if len(df_seed) == 0 else int(df_seed.Seed.str[1:3])\n",
        "    return seed"
      ],
      "id": "QfBDrRLN2Mn6",
      "execution_count": null,
      "outputs": []
    },
    {
      "cell_type": "code",
      "metadata": {
        "id": "religious-appliance"
      },
      "source": [
        "SEED_FACTOR=10 # so that 0 has much lower ranking than teams that were in the torney\n",
        "def getSeasonData(team, year):\n",
        "  # data for each game in a given year\n",
        "  df_year = regularSeasonDetailedResults_df[regularSeasonDetailedResults_df.Season == year]\n",
        "  df_year_prev = regularSeasonDetailedResults_df[regularSeasonDetailedResults_df.Season == year - 1]\n",
        "  # data for the team in that year\n",
        "  df_team = df_year[(df_year[Wteam] == team) | (df_year[Lteam] == team)]\n",
        "  df_team_prev = df_year_prev[(df_year_prev[Wteam] == team) | (df_year_prev[Lteam] == team)]\n",
        "\n",
        "  # data for games won/lost in that year\n",
        "  df_games_won = df_team[df_team[Wteam] == team]\n",
        "  df_games_lost = df_team[df_team[Lteam] == team]\n",
        "  df_games_won_prev = df_team_prev[df_team_prev[Wteam] == team]\n",
        "  df_games_lost_prev = df_team_prev[df_team_prev[Lteam] == team]\n",
        "\n",
        "  numWins = len(df_games_won)\n",
        "  numWins_prev = len(df_games_won_prev)\n",
        "  wins = {'Wins': numWins, 'Wins_prev': numWins_prev, 'Wseed': 0}\n",
        "  for col in ['WScore', 'Wallow', 'WFGM', 'WFGA', 'WFGM3', 'WFGA3', 'WFTM', 'WFTA', 'WOR', 'WDR',\n",
        "         'WAst', 'WTO', 'WStl', 'WBlk', 'WPF', 'DayNum']:\n",
        "    col_ = col if col != 'Wallow' else 'LScore'\n",
        "    colTot = df_games_won[col_].sum()\n",
        "    colTot += df_games_won_prev[col_].sum()\n",
        "    wins[col] = (colTot, colTot / (numWins + numWins_prev))\n",
        "  for idx, row in df_games_won.iterrows():\n",
        "    wins['Wseed'] += get_seed(year, row[Lteam])\n",
        "  for idx, row in df_games_won_prev.iterrows():\n",
        "    wins['Wseed'] += get_seed(year, row[Lteam])\n",
        "#  p(wins)\n",
        "  numLosses = len(df_games_lost)\n",
        "  numLosses_prev = len(df_games_lost_prev) \n",
        "  losses = {'Losses': numLosses, 'Losses_prev': numLosses_prev, 'Lseed': 0}\n",
        "  for col in ['LScore', 'Lallow', 'LFGM', 'LFGA', 'LFGM3', 'LFGA3',\n",
        "         'LFTM', 'LFTA', 'LOR', 'LDR', 'LAst', 'LTO', 'LStl', 'LBlk', 'LPF', 'DayNum']:\n",
        "    col_ = col if col != 'Lallow' else 'WScore'\n",
        "    colTot = df_games_lost[col_].sum()\n",
        "    colTot += df_games_lost_prev[col_].sum()\n",
        "    losses[col] = (colTot, colTot / (numLosses + numLosses_prev))\n",
        "  for idx, row in df_games_lost.iterrows():\n",
        "    losses['Lseed'] += get_seed(year, row[Wteam])\n",
        "  for idx, row in df_games_lost_prev.iterrows():\n",
        "    losses['Lseed'] += get_seed(year, row[Wteam])\n",
        "#  p(losses)\n",
        "  numGames = numWins + numLoses\n",
        "  games = {'Games': numGames, 'Gseed': 0}\n",
        "  for col in ['LScore', 'Lallow', 'LFGM', 'LFGA', 'LFGM3', 'LFGA3',\n",
        "         'LFTM', 'LFTA', 'LOR', 'LDR', 'LAst', 'LTO', 'LStl', 'LBlk', 'LPF']:\n",
        "    col_ = col[1:]\n",
        "    colTot = wins['W' + col_][0] + losses[col][0]\n",
        "    colAvg = colTot / numGames \n",
        "    games['G' + col_] = (colTot, colAvg)\n",
        "  games['GseedW'] = wins['Wseed']\n",
        "  games['GseedL'] = -losses['Lseed']\n",
        "#  games['WDayNum'] = wins['DayNum']\n",
        "#  games['LDayNum'] = losses['DayNum']\n",
        "#  p(games)\n",
        "  games_df = pd.DataFrame(games)\n",
        "  games_df.drop(0, axis=0, inplace=True)\n",
        "#  games_df['Team'] = team\n",
        "  games_df['Games'] = numWins\n",
        "\n",
        "  seed = get_seed(year, team)\n",
        "  seed = 0 if seed == 0 else seed + SEED_FACTOR # so that 0 has much lower ranking than teams that were in the tourney\n",
        "  games_df['Seed'] = seed\n",
        "  df = tourneyDetailedResults_df\n",
        "  games_df['lastTourney'] = 1 if len(df[(df.Season==year) & ((df[Wteam] == team) | (df[Lteam] == team))]) > 0 else 0\n",
        "  games_df['lastTourneyWins'] = len(df[(df.Season==year) & (df[Wteam] == team)])\n",
        "  games_df['prevTourneyWins'] = len(df[(df.Season < year) & (df[Wteam] == team)])\n",
        "  games_df['lastTourneyLosses'] = -len(df[(df.Season==year) & (df[Lteam] == team)])\n",
        "  games_df['prevTourneyLosses'] = -len(df[(df.Season < year) & (df[Lteam] == team)])\n",
        "  \n",
        "  return games_df"
      ],
      "id": "religious-appliance",
      "execution_count": null,
      "outputs": []
    },
    {
      "cell_type": "code",
      "metadata": {
        "id": "third-cardiff"
      },
      "source": [
        "#1401 2015 0       False\n",
        "tourneySeeds_df[(tourneySeeds_df.Season == year-1) & (tourneySeeds_df[Team] == 1401)]"
      ],
      "id": "third-cardiff",
      "execution_count": null,
      "outputs": []
    },
    {
      "cell_type": "code",
      "metadata": {
        "id": "polyphonic-cargo"
      },
      "source": [
        "# test season vector for a team = Oklahoma\n",
        "getSeasonData(1328, year)"
      ],
      "id": "polyphonic-cargo",
      "execution_count": null,
      "outputs": []
    },
    {
      "cell_type": "code",
      "metadata": {
        "id": "ndftzLmQMwxF"
      },
      "source": [
        "# test season vector for a team = Oklahoma\n",
        "getSeasonData(1328, year)"
      ],
      "id": "ndftzLmQMwxF",
      "execution_count": null,
      "outputs": []
    },
    {
      "cell_type": "code",
      "metadata": {
        "id": "static-immigration"
      },
      "source": [
        "teams_df[teams_df[Team_Name].str.find('Kentu') >= 0]"
      ],
      "id": "static-immigration",
      "execution_count": null,
      "outputs": []
    },
    {
      "cell_type": "code",
      "metadata": {
        "id": "abstract-victim"
      },
      "source": [
        "# test season vector for another team\n",
        "getSeasonData(1246, year)"
      ],
      "id": "abstract-victim",
      "execution_count": null,
      "outputs": []
    },
    {
      "cell_type": "markdown",
      "metadata": {
        "id": "engaged-commitment"
      },
      "source": [
        "## Compare 2 teams"
      ],
      "id": "engaged-commitment"
    },
    {
      "cell_type": "code",
      "metadata": {
        "id": "forbidden-bargain"
      },
      "source": [
        "def compareTwoTeams(team1, team2, year):\n",
        "    df1 = getSeasonData(team1, year)\n",
        "    df2 = getSeasonData(team2, year)\n",
        "    return df1 - df2"
      ],
      "id": "forbidden-bargain",
      "execution_count": null,
      "outputs": []
    },
    {
      "cell_type": "code",
      "metadata": {
        "id": "going-tobago"
      },
      "source": [
        "compareTwoTeams(1328, 1246, year)"
      ],
      "id": "going-tobago",
      "execution_count": null,
      "outputs": []
    },
    {
      "cell_type": "markdown",
      "metadata": {
        "id": "requested-secret"
      },
      "source": [
        "## List of teams in 2019 tourney"
      ],
      "id": "requested-secret"
    },
    {
      "cell_type": "code",
      "metadata": {
        "id": "dying-works"
      },
      "source": [
        "def team_list():\n",
        "  df = tourneyCompactResults_df\n",
        "  sw = set(df[(df.Season==year)][Wteam])\n",
        "  sl = set(df[(df.Season==year)][Lteam])\n",
        "  teams_list = list(sw | sl)\n",
        "  len(teams_list)"
      ],
      "id": "dying-works",
      "execution_count": null,
      "outputs": []
    },
    {
      "cell_type": "code",
      "metadata": {
        "id": "medical-african"
      },
      "source": [
        "def compare_dict():\n",
        "  eq = True\n",
        "  for k, v in t_vectors.items():\n",
        "    if k in teams_vectors:\n",
        "      v1 = teams_vectors[k]\n",
        "      if v1.equals(v):\n",
        "        continue\n",
        "      eq = False\n",
        "      break\n",
        "    else:\n",
        "      eq = False\n",
        "      break\n",
        "  eq"
      ],
      "id": "medical-african",
      "execution_count": null,
      "outputs": []
    },
    {
      "cell_type": "markdown",
      "metadata": {
        "id": "aging-commission"
      },
      "source": [
        "# Prepare X"
      ],
      "id": "aging-commission"
    },
    {
      "cell_type": "markdown",
      "metadata": {
        "id": "consistent-howard"
      },
      "source": [
        "> We use the list of all the the games in the regular season and the tourney of the year before\n",
        "\n",
        "> for each game, we calc the diff between the 2 vectors and add the Home feature (using the Wloc column) and the y (win or loss)\n",
        "\n",
        "> We also create Loss records - to have **Negative Sampling**"
      ],
      "id": "consistent-howard"
    },
    {
      "cell_type": "code",
      "metadata": {
        "id": "bearing-bridal"
      },
      "source": [
        "try:\n",
        "  del teams_vectors\n",
        "except:\n",
        "  pass\n",
        "teams_vectors={}\n",
        "\n",
        "season = regularSeasonCompactResults_df[(regularSeasonCompactResults_df.Season == year)]\n",
        "tourney = tourneyCompactResults_df[tourneyCompactResults_df.Season == year - 1]\n",
        "\n",
        "def create_X():\n",
        "  X = pd.DataFrame()\n",
        "  count = 0\n",
        "  \n",
        "  for arr in [season, tourney]:\n",
        "    for index, row in arr.iterrows():\n",
        "      teamW = row[Wteam]\n",
        "      teamL = row[Lteam] \n",
        "\n",
        "      if not teamW in teams_vectors:\n",
        "        teams_vectors[teamW] = getSeasonData(teamW, year)\n",
        "      dfw = teams_vectors[teamW]\n",
        "\n",
        "      if not teamL in teams_vectors:\n",
        "        teams_vectors[teamL] = getSeasonData(teamL, year)\n",
        "      dfl = teams_vectors[teamL]\n",
        "\n",
        "      diff = dfw - dfl\n",
        "      diff['Wloc'] = 1 if row[Wloc] == 'H' else 0 if row[Wloc] == 'N' else -1\n",
        "      diff['Win'] = 1\n",
        "      X = X.append(diff)\n",
        "      \n",
        "      diff = -diff\n",
        "      diff['Win'] = 0\n",
        "      X = X.append(diff)\n",
        "\n",
        "      '''\n",
        "      if count % 2 == 0:\n",
        "        diff['Win'] = 1\n",
        "      else:\n",
        "        diff['Win'] = 0\n",
        "        diff = -diff\n",
        "      '''\n",
        "      count += 1\n",
        "#  X.head()\n",
        "#  X.to_csv('NCAA2019.csv', index = False)\n",
        "#  save_obj(teams_vectors, 'teams_vectors')\n",
        "  return X"
      ],
      "id": "bearing-bridal",
      "execution_count": null,
      "outputs": []
    },
    {
      "cell_type": "code",
      "metadata": {
        "id": "occupied-avatar"
      },
      "source": [
        "p(len(teams_vectors))\n",
        "if False and len(teams_vectors) == 0:   \n",
        "  try:\n",
        "    teams_vectors = load_obj('teams_vectors2019')\n",
        "    X_full = pd.read_csv('NCAA2019.csv', usecols=range(1,23))\n",
        "  except:\n",
        "    X_full = create_X()\n",
        "\n",
        "X_full = create_X()\n",
        "    \n",
        "p(len(teams_vectors))    \n",
        "p(X_full.shape)\n",
        "X_full.columns"
      ],
      "id": "occupied-avatar",
      "execution_count": null,
      "outputs": []
    },
    {
      "cell_type": "markdown",
      "metadata": {
        "id": "celtic-nancy"
      },
      "source": [
        "# Models"
      ],
      "id": "celtic-nancy"
    },
    {
      "cell_type": "code",
      "metadata": {
        "id": "_Z88EfuUPyGy"
      },
      "source": [
        "from sklearn.preprocessing import StandardScaler, MaxAbsScaler, Binarizer\n",
        "from sklearn.preprocessing import FunctionTransformer\n",
        "\n",
        "#X = pd.DataFrame(StandardScaler().fit_transform(X))"
      ],
      "id": "_Z88EfuUPyGy",
      "execution_count": null,
      "outputs": []
    },
    {
      "cell_type": "code",
      "metadata": {
        "id": "contained-restaurant"
      },
      "source": [
        "from sklearn.model_selection import train_test_split\n",
        "\n",
        "X = X_full.drop('Win', axis=1)\n",
        "y = X_full.Win.astype(int)\n",
        "\n",
        "X_train, X_test, y_train, y_test = train_test_split(X, y, train_size=0.7, random_state=0)"
      ],
      "id": "contained-restaurant",
      "execution_count": null,
      "outputs": []
    },
    {
      "cell_type": "code",
      "metadata": {
        "id": "yFfpCEI6Prwv"
      },
      "source": [
        "from sklearn.model_selection import train_test_split, GridSearchCV, cross_val_score\n",
        "from sklearn.metrics import confusion_matrix, classification_report, accuracy_score\n",
        "import math\n",
        "\n",
        "pd.set_option(\"precision\", 2)\n",
        "df_result = pd.DataFrame()"
      ],
      "id": "yFfpCEI6Prwv",
      "execution_count": null,
      "outputs": []
    },
    {
      "cell_type": "code",
      "metadata": {
        "id": "SD0WOCyeZqSg"
      },
      "source": [
        "def report(clf, X, y, data_type='Test'):\n",
        "  global df_result\n",
        "  name = type(clf).__name__ + ': ' + data_type\n",
        "  acc = accuracy_score(y_true=y, y_pred=clf.predict(X))\n",
        "  index = [(name, clf.classes_[0]), (name, clf.classes_[1])]\n",
        "  cm = pd.DataFrame(confusion_matrix(y_true=y, y_pred=clf.predict(X)),\n",
        "                    index=clf.classes_,\n",
        "                    columns=clf.classes_)\n",
        "  cm.reset_index(drop=True, inplace=True)\n",
        "  rep = classification_report(y_true=y, y_pred=clf.predict(X), zero_division=1, output_dict=True)\n",
        "  rep =  pd.DataFrame(rep)\n",
        "  rep.drop(['accuracy', 'macro avg', 'weighted avg'], axis=1, inplace=True)\n",
        "  rep = rep.T\n",
        "  rep['accuracy'] = acc\n",
        "  rep.support = rep.support.astype(int)\n",
        "  cols = list(rep.columns[:3]) + ['accuracy', 'support']\n",
        "  rep = rep[cols]\n",
        "  rep['precision_avg'] = rep.precision.mean()\n",
        "  rep['recall_avg'] = rep.recall.mean()\n",
        "  rep['f1-score_avg'] = rep['f1-score'].mean()\n",
        "  rep.reset_index(drop=True, inplace=True)\n",
        "  df = cm.join(rep)\n",
        "  df['name'] = name\n",
        "  df.reset_index(inplace=True)\n",
        "  #df.set_index(['name', 'index'], inplace=True)\n",
        "  df_result.reset_index(inplace=True)\n",
        "  df_result = df_result.append(df, ignore_index=True)\n",
        "  df_result.set_index(['name', 'index'], inplace=True)\n",
        "  #d(df_result)\n",
        "  return"
      ],
      "id": "SD0WOCyeZqSg",
      "execution_count": null,
      "outputs": []
    },
    {
      "cell_type": "code",
      "metadata": {
        "id": "Ci9f_i4dMAXy"
      },
      "source": [
        "def showFeatureImportance(model, X_train=X_train, threshold=0):\n",
        "  if type(model).__name__ == 'LogisticRegression':  # no features importance data\n",
        "    w0 = model.intercept_[0]\n",
        "    w = model.coef_[0]\n",
        "    fx_imp = pd.Series(w, index=X_train.columns)\n",
        "  else:\n",
        "    fx_imp = pd.Series(model.feature_importances_, index=X_train.columns)\n",
        "  fx_imp /= fx_imp.sum()\n",
        "  fx_imp = fx_imp.sort_values()\n",
        "  fx_imp = fx_imp[fx_imp > threshold]\n",
        "  fig = plt.figure(figsize=(5,5))\n",
        "  plt.xlim(0, 1)\n",
        "  fx_imp.plot(kind='barh', title=type(model).__name__ )"
      ],
      "id": "Ci9f_i4dMAXy",
      "execution_count": null,
      "outputs": []
    },
    {
      "cell_type": "code",
      "metadata": {
        "id": "mjA3XyhXOKcF"
      },
      "source": [
        "def process_model(model, X_train=X_train, y_train=y_train, X_test=X_test, y_test=y_test, plot=False, threshold=0):\n",
        "  p('running: ', type(model).__name__)\n",
        "  model.fit(X_train, y_train)\n",
        "  report(model, X_train, y_train, 'Train')\n",
        "  report(model, X_test, y_test)\n",
        "  if plot:\n",
        "    showFeatureImportance(model, X_train, threshold) "
      ],
      "id": "mjA3XyhXOKcF",
      "execution_count": null,
      "outputs": []
    },
    {
      "cell_type": "code",
      "metadata": {
        "id": "GxHslBMfgIvr"
      },
      "source": [
        "X.head()"
      ],
      "id": "GxHslBMfgIvr",
      "execution_count": null,
      "outputs": []
    },
    {
      "cell_type": "code",
      "metadata": {
        "id": "consolidated-position"
      },
      "source": [
        "from sklearn.linear_model import LogisticRegression\n",
        "from sklearn.ensemble import GradientBoostingClassifier, RandomForestClassifier\n",
        "\n",
        "df_result = pd.DataFrame()\n",
        "\n",
        "clf_LR = LogisticRegression(C=10, fit_intercept=False, max_iter=1000, warm_start=True)\n",
        "process_model(clf_LR, threshold=0.01, plot=False)\n",
        "clf_RF = RandomForestClassifier(n_estimators=500, min_samples_split=6, criterion='entropy')\n",
        "#process_model(clf_RF, threshold=0.01, plot=True)\n",
        "clf_GB = GradientBoostingClassifier(n_estimators=100)\n",
        "#process_model(clf_GB, threshold=0.01, plot=True)\n",
        "\n",
        "d(df_result)"
      ],
      "id": "consolidated-position",
      "execution_count": null,
      "outputs": []
    },
    {
      "cell_type": "markdown",
      "metadata": {
        "id": "narrative-straight"
      },
      "source": [
        "# Predict a game"
      ],
      "id": "narrative-straight"
    },
    {
      "cell_type": "code",
      "metadata": {
        "id": "played-discipline"
      },
      "source": [
        "def predictGame(team1, team2, home=0):\n",
        "  diff = teams_vectors[team1] - teams_vectors[team2]\n",
        "  diff['Wloc'] = home\n",
        "  d(diff)\n",
        "  p(model.predict(diff)[0])\n",
        "  p(model.predict_proba(diff))"
      ],
      "id": "played-discipline",
      "execution_count": null,
      "outputs": []
    },
    {
      "cell_type": "code",
      "metadata": {
        "id": "unknown-trade"
      },
      "source": [
        "team1 = teams_df[teams_df[Team_Name].str.find('North Carolina') >= 0][Team_Id].values[0]\n",
        "team2 = teams_df[teams_df[Team_Name].str.find('Villanova') >= 0][Team_Id].values[0]\n",
        "team1, team2\n",
        "diff = teams_vectors[team1] - teams_vectors[team2]\n",
        "diff['Wloc'] = 0\n",
        "d(diff)\n",
        "\n",
        "model = clf_LR\n",
        "model.fit(X_train, y_train)\n",
        "p(model.predict(diff)[0])\n",
        "model.predict_proba(diff)"
      ],
      "id": "unknown-trade",
      "execution_count": null,
      "outputs": []
    },
    {
      "cell_type": "markdown",
      "metadata": {
        "id": "elHkZ3LU3z_w"
      },
      "source": [
        "# Predict the results of the season"
      ],
      "id": "elHkZ3LU3z_w"
    },
    {
      "cell_type": "code",
      "metadata": {
        "id": "subsequent-given"
      },
      "source": [
        "def predict_table(source, both=True):\n",
        "  result_df = pd.DataFrame()\n",
        "  for index, row in source.iterrows():\n",
        "    teamW = row[Wteam]\n",
        "    teamL = row[Lteam] \n",
        "\n",
        "    diff = teams_vectors[teamW] - teams_vectors[teamL]\n",
        "    diff['Wloc'] = 1 if row[Wloc] == 'H' else 0 if row[Wloc] == 'N' else -1\n",
        "\n",
        "    result = pd.DataFrame(model.predict_proba(diff))\n",
        "\n",
        "    result['Teams'] = f'{teamW}_{teamL}'\n",
        "    result['Correct'] = 1 if result.iloc[0,1] > 0.5 else 0\n",
        "    result_df = result_df.append(result)\n",
        "    if not both:\n",
        "      continue\n",
        "    diff = -diff\n",
        "    result = pd.DataFrame(model.predict_proba(diff))\n",
        "    result['Teams'] = f'{teamL}_{teamW}'\n",
        "    result_df = result_df.append(result)\n",
        "  return result_df"
      ],
      "id": "subsequent-given",
      "execution_count": null,
      "outputs": []
    },
    {
      "cell_type": "code",
      "metadata": {
        "id": "african-criminal"
      },
      "source": [
        "result_df = predict_table(season)"
      ],
      "id": "african-criminal",
      "execution_count": null,
      "outputs": []
    },
    {
      "cell_type": "code",
      "metadata": {
        "id": "subtle-cylinder"
      },
      "source": [
        "result_df.shape"
      ],
      "id": "subtle-cylinder",
      "execution_count": null,
      "outputs": []
    },
    {
      "cell_type": "code",
      "metadata": {
        "id": "focused-joseph"
      },
      "source": [
        "pd.set_option(\"precision\", 5)\n",
        "p(result_df.mean())\n",
        "pd.set_option(\"precision\", 2)"
      ],
      "id": "focused-joseph",
      "execution_count": null,
      "outputs": []
    },
    {
      "cell_type": "markdown",
      "metadata": {
        "id": "iq2jL07Gdi2t"
      },
      "source": [
        "# Results of tourney for year\n",
        "\n"
      ],
      "id": "iq2jL07Gdi2t"
    },
    {
      "cell_type": "code",
      "metadata": {
        "id": "ojQvubd2ZCtz"
      },
      "source": [
        "year"
      ],
      "id": "ojQvubd2ZCtz",
      "execution_count": null,
      "outputs": []
    },
    {
      "cell_type": "code",
      "metadata": {
        "id": "1_2oVgkGdfVf"
      },
      "source": [
        "tourney_year = tourneyCompactResults_df[tourneyCompactResults_df.Season == year]\n",
        "d(tourney_year.head())\n",
        "tourney_result_df = predict_table(tourney_year, False)\n",
        "tourney_result_df['Actual'] = 1\n",
        "d(tourney_result_df.head())\n",
        "p(tourney_result_df.Correct.sum() / len(tourney_result_df))\n",
        "p(tourney_result_df.Correct.sum())"
      ],
      "id": "1_2oVgkGdfVf",
      "execution_count": null,
      "outputs": []
    },
    {
      "cell_type": "code",
      "metadata": {
        "id": "BWUQwP8Ke_Yr"
      },
      "source": [
        "from sklearn.metrics import log_loss\n",
        "\n",
        "# since log_loss does not accept y_true that all values are 1, we artificially switch row0 proba and set the y to 0\n",
        "#p('Test logloss is {:.5f}'.format(log_loss(tourney_result_df[[0,1]], tourney_result_df.Correct)))\n",
        "y_true = list(tourney_result_df.Actual.values)\n",
        "y_true[0]=0\n",
        "y_pred = tourney_result_df[[0,1]].copy()\n",
        "x0 = y_pred.iloc[0,0]\n",
        "x1 = y_pred.iloc[0,1]\n",
        "y_pred.iloc[0,0], y_pred.iloc[0,1] = x1, x0\n",
        "p(log_loss(y_true, y_pred))"
      ],
      "id": "BWUQwP8Ke_Yr",
      "execution_count": null,
      "outputs": []
    },
    {
      "cell_type": "markdown",
      "metadata": {
        "id": "1KAaN10CY_oA"
      },
      "source": [
        "# Grid Search for hyperparameters - on best model"
      ],
      "id": "1KAaN10CY_oA"
    },
    {
      "cell_type": "code",
      "metadata": {
        "id": "g4jQsqR7ZMwn"
      },
      "source": [
        "GS = False\n",
        "if GS:\n",
        "  clf_LR.fit(X_train, y_train)\n",
        "  p(clf_LR.score(X_train, y_train))\n",
        "  p(clf_LR.score(X_test, y_test))"
      ],
      "id": "g4jQsqR7ZMwn",
      "execution_count": null,
      "outputs": []
    },
    {
      "cell_type": "code",
      "metadata": {
        "id": "IkGumCQXZhN-"
      },
      "source": [
        "if GS:\n",
        "  param_grid = { \n",
        "      'C' : [1, 10, 100, 1000],\n",
        "      'warm_start': [True],\n",
        "      'max_iter': [1000, 2000, 5000],\n",
        "      'fit_intercept': [False],\n",
        "  }\n",
        "\n",
        "  clf_gs = GridSearchCV(clf_LR, param_grid, cv=5, verbose=4)\n",
        "  clf_gs.fit(X_train, y_train)"
      ],
      "id": "IkGumCQXZhN-",
      "execution_count": null,
      "outputs": []
    },
    {
      "cell_type": "code",
      "metadata": {
        "id": "tb_Jck0PZ07_"
      },
      "source": [
        "if GS:\n",
        "  p('Results')\n",
        "  clf_gs.estimator\n",
        "  p(clf_gs.best_params_)\n",
        "  p(clf_gs.best_estimator_)\n",
        "\n",
        "  p(clf_gs.score(X_train, y_train))\n",
        "  p(clf_gs.score(X_test, y_test))"
      ],
      "id": "tb_Jck0PZ07_",
      "execution_count": null,
      "outputs": []
    },
    {
      "cell_type": "markdown",
      "metadata": {
        "id": "respected-shirt"
      },
      "source": [
        "# TODO - all done"
      ],
      "id": "respected-shirt"
    },
    {
      "cell_type": "markdown",
      "metadata": {
        "id": "electoral-juice"
      },
      "source": [
        "> 1. normalize columns - DONE, no improvement\n",
        "\n",
        "> 2. add column - win * days - the latest the win the better - DONE, windays - no improvement, lossdays - worse\n",
        "\n",
        "> 3. add column - wins * seed - wins agains higher ranking teams - better -DONE, improved from 43 to 45 correct predictions, and when we added also losses * seed with a -ve sign, the results improved to 47 correct predictions (70%)\n",
        "\n",
        "> 4. add games for prev season - so that 2 seasons are taken into account - WOW, improvement of 2 more correct results to 49 (73%)\n",
        "\n",
        "> 5. Cross_val\n",
        "\n",
        "> 6. ROC curve"
      ],
      "id": "electoral-juice"
    },
    {
      "cell_type": "markdown",
      "metadata": {
        "id": "agmOSB_4Cz0A"
      },
      "source": [
        "# NBA"
      ],
      "id": "agmOSB_4Cz0A"
    },
    {
      "cell_type": "markdown",
      "metadata": {
        "id": "ZvXc4jVLC6qO"
      },
      "source": [
        "## get data from web for team=CLE - Cleveland Cavaliers"
      ],
      "id": "ZvXc4jVLC6qO"
    },
    {
      "cell_type": "code",
      "metadata": {
        "id": "0-WYBxmtC3oC",
        "colab": {
          "base_uri": "https://localhost:8080/",
          "height": 1000
        },
        "outputId": "8c31220d-fdc9-4916-82ea-354704f1494c"
      },
      "source": [
        "import urllib.request\n",
        "import re\n",
        "import requests\n",
        "from bs4 import BeautifulSoup as bs\n",
        "import json\n",
        "import numpy as np\n",
        "import pandas as pd\n",
        "from datetime import datetime\n",
        "\n",
        "try:\n",
        "  from requests_html import HTMLSession, AsyncHTMLSession\n",
        "except:\n",
        "  !pip install requests-html  \n",
        "  from requests_html import HTMLSession, AsyncHTMLSession\n",
        "\n",
        "from IPython.display import display\n",
        "p = print\n",
        "d = display  "
      ],
      "id": "0-WYBxmtC3oC",
      "execution_count": 2,
      "outputs": [
        {
          "output_type": "stream",
          "text": [
            "Collecting requests-html\n",
            "  Downloading https://files.pythonhosted.org/packages/24/bc/a4380f09bab3a776182578ce6b2771e57259d0d4dbce178205779abdc347/requests_html-0.10.0-py3-none-any.whl\n",
            "Requirement already satisfied: requests in /usr/local/lib/python3.7/dist-packages (from requests-html) (2.23.0)\n",
            "Collecting fake-useragent\n",
            "  Downloading https://files.pythonhosted.org/packages/d1/79/af647635d6968e2deb57a208d309f6069d31cb138066d7e821e575112a80/fake-useragent-0.1.11.tar.gz\n",
            "Collecting pyquery\n",
            "  Downloading https://files.pythonhosted.org/packages/58/0b/85d15e21f660a8ea68b1e0286168938857391f4ec9f6d204d91c9e013826/pyquery-1.4.3-py3-none-any.whl\n",
            "Requirement already satisfied: bs4 in /usr/local/lib/python3.7/dist-packages (from requests-html) (0.0.1)\n",
            "Collecting w3lib\n",
            "  Downloading https://files.pythonhosted.org/packages/a3/59/b6b14521090e7f42669cafdb84b0ab89301a42f1f1a82fcf5856661ea3a7/w3lib-1.22.0-py2.py3-none-any.whl\n",
            "Collecting parse\n",
            "  Downloading https://files.pythonhosted.org/packages/89/a1/82ce536be577ba09d4dcee45db58423a180873ad38a2d014d26ab7b7cb8a/parse-1.19.0.tar.gz\n",
            "Collecting pyppeteer>=0.0.14\n",
            "\u001b[?25l  Downloading https://files.pythonhosted.org/packages/4a/05/ea3250282e46fda60df1f1d5246bb8cdc022abb89969c61a98ea28fd6b82/pyppeteer-0.2.5-py3-none-any.whl (87kB)\n",
            "\u001b[K     |████████████████████████████████| 92kB 4.4MB/s \n",
            "\u001b[?25hRequirement already satisfied: idna<3,>=2.5 in /usr/local/lib/python3.7/dist-packages (from requests->requests-html) (2.10)\n",
            "Requirement already satisfied: chardet<4,>=3.0.2 in /usr/local/lib/python3.7/dist-packages (from requests->requests-html) (3.0.4)\n",
            "Requirement already satisfied: urllib3!=1.25.0,!=1.25.1,<1.26,>=1.21.1 in /usr/local/lib/python3.7/dist-packages (from requests->requests-html) (1.24.3)\n",
            "Requirement already satisfied: certifi>=2017.4.17 in /usr/local/lib/python3.7/dist-packages (from requests->requests-html) (2020.12.5)\n",
            "Requirement already satisfied: lxml>=2.1 in /usr/local/lib/python3.7/dist-packages (from pyquery->requests-html) (4.2.6)\n",
            "Collecting cssselect>0.7.9\n",
            "  Downloading https://files.pythonhosted.org/packages/3b/d4/3b5c17f00cce85b9a1e6f91096e1cc8e8ede2e1be8e96b87ce1ed09e92c5/cssselect-1.1.0-py2.py3-none-any.whl\n",
            "Requirement already satisfied: beautifulsoup4 in /usr/local/lib/python3.7/dist-packages (from bs4->requests-html) (4.6.3)\n",
            "Requirement already satisfied: six>=1.4.1 in /usr/local/lib/python3.7/dist-packages (from w3lib->requests-html) (1.15.0)\n",
            "Collecting pyee<9.0.0,>=8.1.0\n",
            "  Downloading https://files.pythonhosted.org/packages/0d/0a/933b3931107e1da186963fd9bb9bceb9a613cff034cb0fb3b0c61003f357/pyee-8.1.0-py2.py3-none-any.whl\n",
            "Requirement already satisfied: appdirs<2.0.0,>=1.4.3 in /usr/local/lib/python3.7/dist-packages (from pyppeteer>=0.0.14->requests-html) (1.4.4)\n",
            "Collecting importlib-metadata<3.0.0,>=2.1.1; python_version < \"3.8\"\n",
            "  Downloading https://files.pythonhosted.org/packages/98/b8/8ec57a8ef46fbe7f185318c7ff7df9a06c9df451d9a59a067bfa851bb828/importlib_metadata-2.1.1-py2.py3-none-any.whl\n",
            "Collecting tqdm<5.0.0,>=4.42.1\n",
            "\u001b[?25l  Downloading https://files.pythonhosted.org/packages/72/8a/34efae5cf9924328a8f34eeb2fdaae14c011462d9f0e3fcded48e1266d1c/tqdm-4.60.0-py2.py3-none-any.whl (75kB)\n",
            "\u001b[K     |████████████████████████████████| 81kB 8.1MB/s \n",
            "\u001b[?25hCollecting websockets<9.0,>=8.1\n",
            "\u001b[?25l  Downloading https://files.pythonhosted.org/packages/5a/0b/3ebc752392a368af14dd24ee041683416ac6d2463eead94b311b11e41c82/websockets-8.1-cp37-cp37m-manylinux2010_x86_64.whl (79kB)\n",
            "\u001b[K     |████████████████████████████████| 81kB 7.8MB/s \n",
            "\u001b[?25hRequirement already satisfied: zipp>=0.5 in /usr/local/lib/python3.7/dist-packages (from importlib-metadata<3.0.0,>=2.1.1; python_version < \"3.8\"->pyppeteer>=0.0.14->requests-html) (3.4.1)\n",
            "Building wheels for collected packages: fake-useragent, parse\n",
            "  Building wheel for fake-useragent (setup.py) ... \u001b[?25l\u001b[?25hdone\n",
            "  Created wheel for fake-useragent: filename=fake_useragent-0.1.11-cp37-none-any.whl size=13485 sha256=da2d09422e4329cc8d404fb9a49c43d1a53d3340fab792c575fafad6e5bb83d9\n",
            "  Stored in directory: /root/.cache/pip/wheels/5e/63/09/d1dc15179f175357d3f5c00cbffbac37f9e8690d80545143ff\n",
            "  Building wheel for parse (setup.py) ... \u001b[?25l\u001b[?25hdone\n",
            "  Created wheel for parse: filename=parse-1.19.0-cp37-none-any.whl size=24581 sha256=286aa249dad0262411267d156a9804608b45b2e2c53e812702679e23770499eb\n",
            "  Stored in directory: /root/.cache/pip/wheels/c0/39/ea/e2fd678bd130953f5438470b8dfa529f00787e9b8b92b27467\n",
            "Successfully built fake-useragent parse\n",
            "\u001b[31mERROR: pyppeteer 0.2.5 has requirement urllib3<2.0.0,>=1.25.8, but you'll have urllib3 1.24.3 which is incompatible.\u001b[0m\n",
            "Installing collected packages: fake-useragent, cssselect, pyquery, w3lib, parse, pyee, importlib-metadata, tqdm, websockets, pyppeteer, requests-html\n",
            "  Found existing installation: importlib-metadata 4.0.1\n",
            "    Uninstalling importlib-metadata-4.0.1:\n",
            "      Successfully uninstalled importlib-metadata-4.0.1\n",
            "  Found existing installation: tqdm 4.41.1\n",
            "    Uninstalling tqdm-4.41.1:\n",
            "      Successfully uninstalled tqdm-4.41.1\n",
            "Successfully installed cssselect-1.1.0 fake-useragent-0.1.11 importlib-metadata-2.1.1 parse-1.19.0 pyee-8.1.0 pyppeteer-0.2.5 pyquery-1.4.3 requests-html-0.10.0 tqdm-4.60.0 w3lib-1.22.0 websockets-8.1\n"
          ],
          "name": "stdout"
        },
        {
          "output_type": "display_data",
          "data": {
            "application/vnd.colab-display-data+json": {
              "pip_warning": {
                "packages": [
                  "tqdm"
                ]
              }
            }
          },
          "metadata": {
            "tags": []
          }
        }
      ]
    },
    {
      "cell_type": "code",
      "metadata": {
        "id": "LNja-VomD_jN"
      },
      "source": [
        "def get_soup(url):\n",
        "  resp = requests.get(url, headers={'User-Agent': 'Mozilla/5.0'})\n",
        "  if resp.status_code == 200:\n",
        "    soup = bs(resp.text, 'html.parser')\n",
        "    return soup, resp.status_code\n",
        "  print('error accesing site code:', resp.status_code)\n",
        "  return None, None"
      ],
      "id": "LNja-VomD_jN",
      "execution_count": 3,
      "outputs": []
    },
    {
      "cell_type": "code",
      "metadata": {
        "colab": {
          "base_uri": "https://localhost:8080/"
        },
        "id": "w_6xLBJaRJ8X",
        "outputId": "4d9e30de-dcd9-452c-b5c4-74c30c68ab9f"
      },
      "source": [
        "!pip install selenium "
      ],
      "id": "w_6xLBJaRJ8X",
      "execution_count": 4,
      "outputs": [
        {
          "output_type": "stream",
          "text": [
            "Collecting selenium\n",
            "\u001b[?25l  Downloading https://files.pythonhosted.org/packages/80/d6/4294f0b4bce4de0abf13e17190289f9d0613b0a44e5dd6a7f5ca98459853/selenium-3.141.0-py2.py3-none-any.whl (904kB)\n",
            "\u001b[K     |████████████████████████████████| 911kB 5.3MB/s \n",
            "\u001b[?25hRequirement already satisfied: urllib3 in /usr/local/lib/python3.7/dist-packages (from selenium) (1.24.3)\n",
            "Installing collected packages: selenium\n",
            "Successfully installed selenium-3.141.0\n"
          ],
          "name": "stdout"
        }
      ]
    },
    {
      "cell_type": "code",
      "metadata": {
        "colab": {
          "base_uri": "https://localhost:8080/"
        },
        "id": "ELoCk3kbRQkL",
        "outputId": "64a319b1-3997-41d5-ecc1-fac8cd9f09de"
      },
      "source": [
        "from bs4 import BeautifulSoup as bs\n",
        "from time import sleep\n",
        "from selenium import webdriver\n",
        "from selenium.webdriver.chrome.options import Options\n",
        "!apt-get update \n",
        "!apt install chromium-chromedriver"
      ],
      "id": "ELoCk3kbRQkL",
      "execution_count": 5,
      "outputs": [
        {
          "output_type": "stream",
          "text": [
            "Get:1 http://security.ubuntu.com/ubuntu bionic-security InRelease [88.7 kB]\n",
            "Get:2 https://cloud.r-project.org/bin/linux/ubuntu bionic-cran40/ InRelease [3,626 B]\n",
            "Ign:3 https://developer.download.nvidia.com/compute/cuda/repos/ubuntu1804/x86_64  InRelease\n",
            "Get:4 http://ppa.launchpad.net/c2d4u.team/c2d4u4.0+/ubuntu bionic InRelease [15.9 kB]\n",
            "Hit:5 http://archive.ubuntu.com/ubuntu bionic InRelease\n",
            "Get:6 http://archive.ubuntu.com/ubuntu bionic-updates InRelease [88.7 kB]\n",
            "Ign:7 https://developer.download.nvidia.com/compute/machine-learning/repos/ubuntu1804/x86_64  InRelease\n",
            "Get:8 https://developer.download.nvidia.com/compute/cuda/repos/ubuntu1804/x86_64  Release [697 B]\n",
            "Hit:9 https://developer.download.nvidia.com/compute/machine-learning/repos/ubuntu1804/x86_64  Release\n",
            "Get:10 https://developer.download.nvidia.com/compute/cuda/repos/ubuntu1804/x86_64  Release.gpg [836 B]\n",
            "Get:11 https://cloud.r-project.org/bin/linux/ubuntu bionic-cran40/ Packages [56.8 kB]\n",
            "Hit:12 http://ppa.launchpad.net/cran/libgit2/ubuntu bionic InRelease\n",
            "Get:13 http://archive.ubuntu.com/ubuntu bionic-backports InRelease [74.6 kB]\n",
            "Hit:14 http://ppa.launchpad.net/deadsnakes/ppa/ubuntu bionic InRelease\n",
            "Get:15 http://security.ubuntu.com/ubuntu bionic-security/main amd64 Packages [2,150 kB]\n",
            "Get:16 http://ppa.launchpad.net/graphics-drivers/ppa/ubuntu bionic InRelease [21.3 kB]\n",
            "Get:17 http://security.ubuntu.com/ubuntu bionic-security/universe amd64 Packages [1,411 kB]\n",
            "Get:18 http://security.ubuntu.com/ubuntu bionic-security/restricted amd64 Packages [423 kB]\n",
            "Get:19 http://ppa.launchpad.net/c2d4u.team/c2d4u4.0+/ubuntu bionic/main Sources [1,761 kB]\n",
            "Ign:21 https://developer.download.nvidia.com/compute/cuda/repos/ubuntu1804/x86_64  Packages\n",
            "Get:21 https://developer.download.nvidia.com/compute/cuda/repos/ubuntu1804/x86_64  Packages [772 kB]\n",
            "Get:22 http://archive.ubuntu.com/ubuntu bionic-updates/universe amd64 Packages [2,183 kB]\n",
            "Get:23 http://ppa.launchpad.net/c2d4u.team/c2d4u4.0+/ubuntu bionic/main amd64 Packages [901 kB]\n",
            "Get:24 http://archive.ubuntu.com/ubuntu bionic-updates/main amd64 Packages [2,582 kB]\n",
            "Get:25 http://archive.ubuntu.com/ubuntu bionic-updates/restricted amd64 Packages [452 kB]\n",
            "Get:26 http://ppa.launchpad.net/graphics-drivers/ppa/ubuntu bionic/main amd64 Packages [41.5 kB]\n",
            "Fetched 13.0 MB in 4s (3,704 kB/s)\n",
            "Reading package lists... Done\n",
            "Reading package lists... Done\n",
            "Building dependency tree       \n",
            "Reading state information... Done\n",
            "The following package was automatically installed and is no longer required:\n",
            "  libnvidia-common-460\n",
            "Use 'apt autoremove' to remove it.\n",
            "The following additional packages will be installed:\n",
            "  chromium-browser chromium-browser-l10n chromium-codecs-ffmpeg-extra\n",
            "Suggested packages:\n",
            "  webaccounts-chromium-extension unity-chromium-extension\n",
            "The following NEW packages will be installed:\n",
            "  chromium-browser chromium-browser-l10n chromium-chromedriver\n",
            "  chromium-codecs-ffmpeg-extra\n",
            "0 upgraded, 4 newly installed, 0 to remove and 62 not upgraded.\n",
            "Need to get 86.6 MB of archives.\n",
            "After this operation, 300 MB of additional disk space will be used.\n",
            "Get:1 http://archive.ubuntu.com/ubuntu bionic-updates/universe amd64 chromium-codecs-ffmpeg-extra amd64 90.0.4430.93-0ubuntu0.18.04.1 [1,128 kB]\n",
            "Get:2 http://archive.ubuntu.com/ubuntu bionic-updates/universe amd64 chromium-browser amd64 90.0.4430.93-0ubuntu0.18.04.1 [76.9 MB]\n",
            "Get:3 http://archive.ubuntu.com/ubuntu bionic-updates/universe amd64 chromium-browser-l10n all 90.0.4430.93-0ubuntu0.18.04.1 [3,853 kB]\n",
            "Get:4 http://archive.ubuntu.com/ubuntu bionic-updates/universe amd64 chromium-chromedriver amd64 90.0.4430.93-0ubuntu0.18.04.1 [4,743 kB]\n",
            "Fetched 86.6 MB in 4s (21.5 MB/s)\n",
            "Selecting previously unselected package chromium-codecs-ffmpeg-extra.\n",
            "(Reading database ... 160706 files and directories currently installed.)\n",
            "Preparing to unpack .../chromium-codecs-ffmpeg-extra_90.0.4430.93-0ubuntu0.18.04.1_amd64.deb ...\n",
            "Unpacking chromium-codecs-ffmpeg-extra (90.0.4430.93-0ubuntu0.18.04.1) ...\n",
            "Selecting previously unselected package chromium-browser.\n",
            "Preparing to unpack .../chromium-browser_90.0.4430.93-0ubuntu0.18.04.1_amd64.deb ...\n",
            "Unpacking chromium-browser (90.0.4430.93-0ubuntu0.18.04.1) ...\n",
            "Selecting previously unselected package chromium-browser-l10n.\n",
            "Preparing to unpack .../chromium-browser-l10n_90.0.4430.93-0ubuntu0.18.04.1_all.deb ...\n",
            "Unpacking chromium-browser-l10n (90.0.4430.93-0ubuntu0.18.04.1) ...\n",
            "Selecting previously unselected package chromium-chromedriver.\n",
            "Preparing to unpack .../chromium-chromedriver_90.0.4430.93-0ubuntu0.18.04.1_amd64.deb ...\n",
            "Unpacking chromium-chromedriver (90.0.4430.93-0ubuntu0.18.04.1) ...\n",
            "Setting up chromium-codecs-ffmpeg-extra (90.0.4430.93-0ubuntu0.18.04.1) ...\n",
            "Setting up chromium-browser (90.0.4430.93-0ubuntu0.18.04.1) ...\n",
            "update-alternatives: using /usr/bin/chromium-browser to provide /usr/bin/x-www-browser (x-www-browser) in auto mode\n",
            "update-alternatives: using /usr/bin/chromium-browser to provide /usr/bin/gnome-www-browser (gnome-www-browser) in auto mode\n",
            "Setting up chromium-chromedriver (90.0.4430.93-0ubuntu0.18.04.1) ...\n",
            "Setting up chromium-browser-l10n (90.0.4430.93-0ubuntu0.18.04.1) ...\n",
            "Processing triggers for man-db (2.8.3-2ubuntu0.1) ...\n",
            "Processing triggers for hicolor-icon-theme (0.17-2) ...\n",
            "Processing triggers for mime-support (3.60ubuntu1) ...\n",
            "Processing triggers for libc-bin (2.27-3ubuntu1.2) ...\n",
            "/sbin/ldconfig.real: /usr/local/lib/python3.7/dist-packages/ideep4py/lib/libmkldnn.so.0 is not a symbolic link\n",
            "\n"
          ],
          "name": "stdout"
        }
      ]
    },
    {
      "cell_type": "code",
      "metadata": {
        "id": "iXoo79t2DVVi"
      },
      "source": [
        "#soup, ret_code = get_soup('https://www.basketball-reference.com/teams/CLE/2016/gamelog/')"
      ],
      "id": "iXoo79t2DVVi",
      "execution_count": 6,
      "outputs": []
    },
    {
      "cell_type": "code",
      "metadata": {
        "id": "PHcSsDFCRbal"
      },
      "source": [
        "chrome_options = Options()\n",
        "chrome_options.add_argument('--headless')\n",
        "chrome_options.add_argument('--no-sandbox')\n",
        "chrome_options.add_argument('--disable-dev-shm-usage')\n",
        "\n",
        "def get_nba(year, cur_team):\n",
        "  wd = webdriver.Chrome('chromedriver',options=chrome_options)\n",
        "  driver =webdriver.Chrome('chromedriver',options=chrome_options)\n",
        "  URL = \"https://www.basketball-reference.com/teams/CLE/2016/gamelog/\"\n",
        "  URL = f'https://www.basketball-reference.com/teams/{cur_team}/{year}/gamelog/'\n",
        "\n",
        "  driver.get(URL)\n",
        "  sleep(5) # give time for all javascripts to be finished running\n",
        "  page0 = driver.page_source\n",
        "  driver.close()\n",
        "\n",
        "  soup = bs(page0, \"lxml\")\n",
        "\n",
        "    # save to disk so to load the HTML to a txt file - easier to look at because in Ju[pyter it is too slow]\n",
        "  with open(f'NBA{year}.html', 'w') as f:\n",
        "    f.write(soup.prettify())\n",
        "  del page0\n",
        "\n",
        "  #with open('corona.txt') as f:\n",
        "  #  soup = f.read()    \n",
        "  return soup"
      ],
      "id": "PHcSsDFCRbal",
      "execution_count": 145,
      "outputs": []
    },
    {
      "cell_type": "code",
      "metadata": {
        "id": "Aa7mAvIK9pz7"
      },
      "source": [
        "def get_name(soup):\n",
        "  team_name = soup.findAll('title')[0].get_text()[8:] # skip season 2014-15\n",
        "  idx = team_name.index(' Team')\n",
        "  team_name = team_name[:idx]\n",
        "  return team_name"
      ],
      "id": "Aa7mAvIK9pz7",
      "execution_count": 36,
      "outputs": []
    },
    {
      "cell_type": "code",
      "metadata": {
        "id": "bfUx1rGBvo42"
      },
      "source": [
        "def save_team(df):\n",
        "  df_teams = pd.DataFrame.from_dict(teams, orient='index', columns=['TeamName'])\n",
        "  df_teams.index.name = 'TeamID'\n",
        "  df_teams.reset_index(inplace=True)\n",
        "  df_teams.to_csv(f'teams.csv', index=False)\n",
        "  p('Teams:', df_teams.shape)\n",
        "  d(df_teams.head())"
      ],
      "id": "bfUx1rGBvo42",
      "execution_count": 151,
      "outputs": []
    },
    {
      "cell_type": "code",
      "metadata": {
        "id": "NsrapkmIwF68"
      },
      "source": [
        "def get_next_team(teams):\n",
        "  cur_team = ''\n",
        "  for k, v in teams.items():\n",
        "    if v == '':\n",
        "      cur_team = k\n",
        "      break\n",
        "  return cur_team\n"
      ],
      "id": "NsrapkmIwF68",
      "execution_count": 115,
      "outputs": []
    },
    {
      "cell_type": "markdown",
      "metadata": {
        "id": "_yOia-fzA0ci"
      },
      "source": [
        "regularSeasonDetailedResults_df.columns\n",
        "\n",
        "Index(['Season', 'DayNum', 'WTeamID', 'WScore', 'LTeamID', 'LScore', 'WLoc',\n",
        "       'NumOT', 'WFGM', 'WFGA', 'WFGM3', 'WFGA3', 'WFTM', 'WFTA', 'WOR', 'WDR',\n",
        "       'WAst', 'WTO', 'WStl', 'WBlk', 'WPF', 'LFGM', 'LFGA', 'LFGM3', 'LFGA3',\n",
        "       'LFTM', 'LFTA', 'LOR', 'LDR', 'LAst', 'LTO', 'LStl', 'LBlk', 'LPF'],\n",
        "      dtype='object')\n",
        "\n",
        "WFGM - field goals made (by the winning team) - FG\n",
        "\n",
        "WFGA - field goals attempted (by the winning team) - FGA\n",
        "\n",
        "WFGM3 - three pointers made (by the winning team) - 3P\n",
        "\n",
        "WFGA3 - three pointers attempted (by the winning team) - 3PA\n",
        " WFTM - free throws made (by the winning team) WFTA - free throws attempted (by the winning team) WOR - offensive rebounds (pulled by the winning team) WDR - defensive rebounds (pulled by the winning team) WAst - assists (by the winning team) WTO - turnovers committed (by the winning team) WStl - steals (accomplished by the winning team) WBlk - blocks (accomplished by the winning team) WPF - personal fouls committed (by the winning team)\n",
        "\n"
      ],
      "id": "_yOia-fzA0ci"
    },
    {
      "cell_type": "code",
      "metadata": {
        "id": "Iu8tOwNZ4swY"
      },
      "source": [
        "def set_nba_data(row, cur_team):\n",
        "  if row['W/L'] == 'W':\n",
        "    wteam = cur_team\n",
        "    lteam = row.OppTeam\n",
        "    wscore = row.Tm\n",
        "    lscore = row.Opp\n",
        "    wloc = 'A' if row.Home == '@' else 'H'\n",
        "    x = 0\n",
        "    y = 1\n",
        "  else:\n",
        "    wteam = row.OppTeam\n",
        "    lteam = cur_team\n",
        "    wscore = row.Opp\n",
        "    lscore = row.Tm\n",
        "    wloc = 'H' if row.Home == '@' else 'A'\n",
        "    x = 1\n",
        "    y = 0\n",
        "\n",
        "  WFGM = row.FG.values[x]\n",
        "  WFGA = row.FGA.values[x]\n",
        "  WFGM3 = row['3P'].values[x]\n",
        "  WFGA3 = row['3PA'].values[x]\n",
        "  WFTM = row.FT.values[x]\n",
        "  WFTA = row.FTA.values[x]\n",
        "  WOR = row.ORB.values[x]\n",
        "  WDR = row.TRB.values[x]\n",
        "  WAst = row.AST.values[x]\n",
        "  WTO = row.TOV.values[x]\n",
        "  WStl = row.STL.values[x]\n",
        "  WBlk = row.BLK.values[x]\n",
        "  WPF = row.PF.values[x]\n",
        "\n",
        "  LFGM = row.FG.values[y]\n",
        "  LFGA = row.FGA.values[y]\n",
        "  LFGM3 = row['3P'].values[y]\n",
        "  LFGA3 = row['3PA'].values[y]\n",
        "  LFTM = row.FT.values[y]\n",
        "  LFTA = row.FTA.values[y]\n",
        "  LOR = row.ORB.values[y]\n",
        "  LDR = row.TRB.values[y]\n",
        "  LAst = row.AST.values[y]\n",
        "  LTO = row.TOV.values[y]\n",
        "  LStl = row.STL.values[y]\n",
        "  LBlk = row.BLK.values[y]\n",
        "  LPF = row.PF.values[y]\n",
        "\n",
        "  return wteam, wscore, lteam, lscore, wloc, WFGM, WFGA, WFGM3, WFGA3, WFTM, WFTA, WOR, WDR,\\\n",
        "       WAst, WTO, WStl, WBlk, WPF, LFGM, LFGA, LFGM3, LFGA3,\\\n",
        "       LFTM, LFTA, LOR, LDR, LAst, LTO, LStl, LBlk, LPF"
      ],
      "id": "Iu8tOwNZ4swY",
      "execution_count": 114,
      "outputs": []
    },
    {
      "cell_type": "code",
      "metadata": {
        "colab": {
          "base_uri": "https://localhost:8080/"
        },
        "id": "rSXmWQvFESd0",
        "outputId": "667f020e-60ab-45e6-d3ed-99c3b7138a93"
      },
      "source": [
        "df_reg = pd.DataFrame()\n",
        "df_off = df_reg.copy()\n",
        "cur_team = 'CLE'\n",
        "teams = {cur_team:''}  # starting team\n",
        "\n",
        "while True:\n",
        "  for year in range(2015, 2021):\n",
        "    p('\\ndoing:', year, cur_team, end='')\n",
        "    soup = get_nba(year, cur_team)\n",
        "    divs = soup.find_all('div', class_=\"table_wrapper\")\n",
        "    p(', ndivs:', len(divs), end='')\n",
        "#    for div in divs:\n",
        "#      p(year, div.find('h2').text )\n",
        "    for k in range(len(divs)):\n",
        "      table = divs[k].findAll('table')[0]  # one table only\n",
        "      rows = table.findAll('tr')\n",
        "      ncols = 0\n",
        "      columns = []\n",
        "      lines = []\n",
        "      for i, row in enumerate(rows):\n",
        "      #  p(f'[{i}] {row}')\n",
        "        if i < 2:\n",
        "          cols = row.findAll(['th'])\n",
        "        else:\n",
        "          cols = row.findAll(['th', 'td'])\n",
        "        line = []\n",
        "        for j, col in enumerate(cols):\n",
        "          txt = col.get_text().strip()\n",
        "          #if len(txt) > 0:      p(txt)\n",
        "          if i > 1 and j == 0 and (len(txt) == 0 or txt == 'Rk'):\n",
        "            break    # skip headers between tables\n",
        "          if i == 0:  # i=0 size of each group of cols = total is size of row\n",
        "            try:\n",
        "              ncol = int(col[\"colspan\"])\n",
        "              ncols += ncol\n",
        "      #        p(ncols, ncol)\n",
        "            except:\n",
        "              pass\n",
        "          elif i == 1:\n",
        "            columns.append(txt)\n",
        "          else:\n",
        "            line.append(txt)\n",
        "        if i > 1 and len(line) > 0:\n",
        "          lines.append(line)\n",
        "      df = pd.DataFrame(lines, columns=columns)\n",
        "      df.drop(['Rk', 'G'], axis=1, inplace=True)\n",
        "      new_columns = df.columns.values;  new_columns[1] = 'Home'; new_columns[2] = 'OppTeam'; df.columns  = new_columns\n",
        "      df['Season'] = year\n",
        "      first_col = df.pop('Season')\n",
        "      df.insert(0, 'Season', first_col)\n",
        "      \n",
        "      df_r = pd.DataFrame()\n",
        "      df_r['Season'] = df['Season']\n",
        "      df_r['Date'] = df.Date\n",
        "      df_r['WTeamID'], df_r['WScore'], df_r['LTeamID'], df_r['LScore'], df_r['WLoc'],\\\n",
        "            df_r['WFGM'], df_r['WFGA'], df_r['WFGM3'], df_r['WFGA3'], df_r['WFTM'], df_r['WFTA'], df_r['WOR'], df_r['WDR'],\\\n",
        "            df_r['WAst'], df_r['WTO'], df_r['WStl'], df_r['WBlk'], df_r['WPF'], df_r['LFGM'], df_r['LFGA'], df_r['LFGM3'], df_r['LFGA3'],\\\n",
        "            df_r['LFTM'], df_r['LFTA'], df_r['LOR'], df_r['LDR'], df_r['LAst'], df_r['LTO'], df_r['LStl'], df_r['LBlk'], df_r['LPF'] \\\n",
        "          =  zip(*df.apply(set_nba_data, cur_team=cur_team, axis=1))\n",
        "\n",
        "      if k == 0:\n",
        "        fname = 'regular'\n",
        "        df_reg = df_reg.append(df_r)\n",
        "      else:\n",
        "        fname = 'playoff'\n",
        "        df_off = df_off.append(df_r) \n",
        "      p(f', shape {fname}:', df_r.shape, end='')\n",
        "\n",
        "      # get teams - in case a new team was added in a season\n",
        "      teams_list = list(df.OppTeam.values)\n",
        "      for t in teams_list:\n",
        "        teams[t] = teams.get(t, '')\n",
        "      teams[cur_team] = get_name(soup)\n",
        "    # get next team - one that does not have a name\n",
        "  cur_team = get_next_team(teams)\n",
        "  if cur_team == '':\n",
        "    break\n",
        "  p()\n",
        "\n",
        "save_team(teams)\n",
        "\n",
        "p('Before drop_dup reg:', df_reg.shape)\n",
        "df_reg.drop_duplicates(inplace=True)\n",
        "df_reg.to_csv(f'regular.csv', index=False)  \n",
        "p('After drop_dup reg:', df_reg.shape)\n",
        "\n",
        "p('Before drop_dup off:', df_off.shape)\n",
        "df_off.drop_duplicates(inplace=True)\n",
        "df_off.to_csv(f'playoff.csv', index=False)    \n",
        "p('After drop_dup off:', df_off.shape)"
      ],
      "id": "rSXmWQvFESd0",
      "execution_count": null,
      "outputs": [
        {
          "output_type": "stream",
          "text": [
            "\n",
            "doing: 2015 CLE, ndivs: 2, shape regular: (82, 33), shape playoff: (20, 33)\n",
            "doing: 2016 CLE"
          ],
          "name": "stdout"
        }
      ]
    },
    {
      "cell_type": "code",
      "metadata": {
        "colab": {
          "base_uri": "https://localhost:8080/",
          "height": 199
        },
        "id": "_igy1mZwU4nF",
        "outputId": "1ef93256-333a-41b9-9fec-bbec08953419"
      },
      "source": [
        "p(df_off.shape)\n",
        "mask = ((df_off.Date == '2015-04-19') & (df_off.WTeamID=='CLE'))\n",
        "p(mask.sum())\n",
        "df_off[mask]"
      ],
      "id": "_igy1mZwU4nF",
      "execution_count": 142,
      "outputs": [
        {
          "output_type": "stream",
          "text": [
            "(162, 33)\n",
            "2\n"
          ],
          "name": "stdout"
        },
        {
          "output_type": "execute_result",
          "data": {
            "text/html": [
              "<div>\n",
              "<style scoped>\n",
              "    .dataframe tbody tr th:only-of-type {\n",
              "        vertical-align: middle;\n",
              "    }\n",
              "\n",
              "    .dataframe tbody tr th {\n",
              "        vertical-align: top;\n",
              "    }\n",
              "\n",
              "    .dataframe thead th {\n",
              "        text-align: right;\n",
              "    }\n",
              "</style>\n",
              "<table border=\"1\" class=\"dataframe\">\n",
              "  <thead>\n",
              "    <tr style=\"text-align: right;\">\n",
              "      <th></th>\n",
              "      <th>Season</th>\n",
              "      <th>Date</th>\n",
              "      <th>WTeamID</th>\n",
              "      <th>WScore</th>\n",
              "      <th>LTeamID</th>\n",
              "      <th>LScore</th>\n",
              "      <th>WLoc</th>\n",
              "      <th>WFGM</th>\n",
              "      <th>WFGA</th>\n",
              "      <th>WFGM3</th>\n",
              "      <th>WFGA3</th>\n",
              "      <th>WFTM</th>\n",
              "      <th>WFTA</th>\n",
              "      <th>WOR</th>\n",
              "      <th>WDR</th>\n",
              "      <th>WAst</th>\n",
              "      <th>WTO</th>\n",
              "      <th>WStl</th>\n",
              "      <th>WBlk</th>\n",
              "      <th>WPF</th>\n",
              "      <th>LFGM</th>\n",
              "      <th>LFGA</th>\n",
              "      <th>LFGM3</th>\n",
              "      <th>LFGA3</th>\n",
              "      <th>LFTM</th>\n",
              "      <th>LFTA</th>\n",
              "      <th>LOR</th>\n",
              "      <th>LDR</th>\n",
              "      <th>LAst</th>\n",
              "      <th>LTO</th>\n",
              "      <th>LStl</th>\n",
              "      <th>LBlk</th>\n",
              "      <th>LPF</th>\n",
              "    </tr>\n",
              "  </thead>\n",
              "  <tbody>\n",
              "    <tr>\n",
              "      <th>0</th>\n",
              "      <td>2015</td>\n",
              "      <td>2015-04-19</td>\n",
              "      <td>CLE</td>\n",
              "      <td>113</td>\n",
              "      <td>BOS</td>\n",
              "      <td>100</td>\n",
              "      <td>H</td>\n",
              "      <td>37</td>\n",
              "      <td>82</td>\n",
              "      <td>13</td>\n",
              "      <td>31</td>\n",
              "      <td>26</td>\n",
              "      <td>33</td>\n",
              "      <td>15</td>\n",
              "      <td>46</td>\n",
              "      <td>19</td>\n",
              "      <td>12</td>\n",
              "      <td>6</td>\n",
              "      <td>5</td>\n",
              "      <td>23</td>\n",
              "      <td>37</td>\n",
              "      <td>79</td>\n",
              "      <td>8</td>\n",
              "      <td>22</td>\n",
              "      <td>18</td>\n",
              "      <td>22</td>\n",
              "      <td>7</td>\n",
              "      <td>34</td>\n",
              "      <td>24</td>\n",
              "      <td>14</td>\n",
              "      <td>7</td>\n",
              "      <td>4</td>\n",
              "      <td>29</td>\n",
              "    </tr>\n",
              "    <tr>\n",
              "      <th>0</th>\n",
              "      <td>2015</td>\n",
              "      <td>2015-04-19</td>\n",
              "      <td>CLE</td>\n",
              "      <td>113</td>\n",
              "      <td>BOS</td>\n",
              "      <td>100</td>\n",
              "      <td>H</td>\n",
              "      <td>37</td>\n",
              "      <td>82</td>\n",
              "      <td>13</td>\n",
              "      <td>31</td>\n",
              "      <td>26</td>\n",
              "      <td>33</td>\n",
              "      <td>15</td>\n",
              "      <td>46</td>\n",
              "      <td>19</td>\n",
              "      <td>12</td>\n",
              "      <td>6</td>\n",
              "      <td>5</td>\n",
              "      <td>23</td>\n",
              "      <td>37</td>\n",
              "      <td>79</td>\n",
              "      <td>8</td>\n",
              "      <td>22</td>\n",
              "      <td>18</td>\n",
              "      <td>22</td>\n",
              "      <td>7</td>\n",
              "      <td>34</td>\n",
              "      <td>24</td>\n",
              "      <td>14</td>\n",
              "      <td>7</td>\n",
              "      <td>4</td>\n",
              "      <td>29</td>\n",
              "    </tr>\n",
              "  </tbody>\n",
              "</table>\n",
              "</div>"
            ],
            "text/plain": [
              "   Season        Date WTeamID WScore LTeamID LScore  ... LDR LAst LTO LStl LBlk LPF\n",
              "0    2015  2015-04-19     CLE    113     BOS    100  ...  34   24  14    7    4  29\n",
              "0    2015  2015-04-19     CLE    113     BOS    100  ...  34   24  14    7    4  29\n",
              "\n",
              "[2 rows x 33 columns]"
            ]
          },
          "metadata": {
            "tags": []
          },
          "execution_count": 142
        }
      ]
    },
    {
      "cell_type": "code",
      "metadata": {
        "colab": {
          "base_uri": "https://localhost:8080/",
          "height": 151
        },
        "id": "rbDwO1DkV7X8",
        "outputId": "7d1407eb-374a-4590-b09e-d48cf7ada194"
      },
      "source": [
        "df_nodups = df_off.drop_duplicates()\n",
        "p(df_nodups.shape)\n",
        "mask = ((df_nodups.Date == '2015-04-19') & (df_nodups.WTeamID=='CLE'))\n",
        "p(mask.sum())\n",
        "df_nodups[mask]"
      ],
      "id": "rbDwO1DkV7X8",
      "execution_count": 143,
      "outputs": [
        {
          "output_type": "stream",
          "text": [
            "(81, 33)\n",
            "1\n"
          ],
          "name": "stdout"
        },
        {
          "output_type": "execute_result",
          "data": {
            "text/html": [
              "<div>\n",
              "<style scoped>\n",
              "    .dataframe tbody tr th:only-of-type {\n",
              "        vertical-align: middle;\n",
              "    }\n",
              "\n",
              "    .dataframe tbody tr th {\n",
              "        vertical-align: top;\n",
              "    }\n",
              "\n",
              "    .dataframe thead th {\n",
              "        text-align: right;\n",
              "    }\n",
              "</style>\n",
              "<table border=\"1\" class=\"dataframe\">\n",
              "  <thead>\n",
              "    <tr style=\"text-align: right;\">\n",
              "      <th></th>\n",
              "      <th>Season</th>\n",
              "      <th>Date</th>\n",
              "      <th>WTeamID</th>\n",
              "      <th>WScore</th>\n",
              "      <th>LTeamID</th>\n",
              "      <th>LScore</th>\n",
              "      <th>WLoc</th>\n",
              "      <th>WFGM</th>\n",
              "      <th>WFGA</th>\n",
              "      <th>WFGM3</th>\n",
              "      <th>WFGA3</th>\n",
              "      <th>WFTM</th>\n",
              "      <th>WFTA</th>\n",
              "      <th>WOR</th>\n",
              "      <th>WDR</th>\n",
              "      <th>WAst</th>\n",
              "      <th>WTO</th>\n",
              "      <th>WStl</th>\n",
              "      <th>WBlk</th>\n",
              "      <th>WPF</th>\n",
              "      <th>LFGM</th>\n",
              "      <th>LFGA</th>\n",
              "      <th>LFGM3</th>\n",
              "      <th>LFGA3</th>\n",
              "      <th>LFTM</th>\n",
              "      <th>LFTA</th>\n",
              "      <th>LOR</th>\n",
              "      <th>LDR</th>\n",
              "      <th>LAst</th>\n",
              "      <th>LTO</th>\n",
              "      <th>LStl</th>\n",
              "      <th>LBlk</th>\n",
              "      <th>LPF</th>\n",
              "    </tr>\n",
              "  </thead>\n",
              "  <tbody>\n",
              "    <tr>\n",
              "      <th>0</th>\n",
              "      <td>2015</td>\n",
              "      <td>2015-04-19</td>\n",
              "      <td>CLE</td>\n",
              "      <td>113</td>\n",
              "      <td>BOS</td>\n",
              "      <td>100</td>\n",
              "      <td>H</td>\n",
              "      <td>37</td>\n",
              "      <td>82</td>\n",
              "      <td>13</td>\n",
              "      <td>31</td>\n",
              "      <td>26</td>\n",
              "      <td>33</td>\n",
              "      <td>15</td>\n",
              "      <td>46</td>\n",
              "      <td>19</td>\n",
              "      <td>12</td>\n",
              "      <td>6</td>\n",
              "      <td>5</td>\n",
              "      <td>23</td>\n",
              "      <td>37</td>\n",
              "      <td>79</td>\n",
              "      <td>8</td>\n",
              "      <td>22</td>\n",
              "      <td>18</td>\n",
              "      <td>22</td>\n",
              "      <td>7</td>\n",
              "      <td>34</td>\n",
              "      <td>24</td>\n",
              "      <td>14</td>\n",
              "      <td>7</td>\n",
              "      <td>4</td>\n",
              "      <td>29</td>\n",
              "    </tr>\n",
              "  </tbody>\n",
              "</table>\n",
              "</div>"
            ],
            "text/plain": [
              "   Season        Date WTeamID WScore LTeamID LScore  ... LDR LAst LTO LStl LBlk LPF\n",
              "0    2015  2015-04-19     CLE    113     BOS    100  ...  34   24  14    7    4  29\n",
              "\n",
              "[1 rows x 33 columns]"
            ]
          },
          "metadata": {
            "tags": []
          },
          "execution_count": 143
        }
      ]
    },
    {
      "cell_type": "code",
      "metadata": {
        "colab": {
          "base_uri": "https://localhost:8080/",
          "height": 389
        },
        "id": "QeJBMP8qOEv7",
        "outputId": "cd88088e-2805-4655-8243-112134a68467"
      },
      "source": [
        "d(df.head(3))\n",
        "d(df_reg.head(3))"
      ],
      "id": "QeJBMP8qOEv7",
      "execution_count": 131,
      "outputs": [
        {
          "output_type": "display_data",
          "data": {
            "text/html": [
              "<div>\n",
              "<style scoped>\n",
              "    .dataframe tbody tr th:only-of-type {\n",
              "        vertical-align: middle;\n",
              "    }\n",
              "\n",
              "    .dataframe tbody tr th {\n",
              "        vertical-align: top;\n",
              "    }\n",
              "\n",
              "    .dataframe thead th {\n",
              "        text-align: right;\n",
              "    }\n",
              "</style>\n",
              "<table border=\"1\" class=\"dataframe\">\n",
              "  <thead>\n",
              "    <tr style=\"text-align: right;\">\n",
              "      <th></th>\n",
              "      <th>Season</th>\n",
              "      <th>Date</th>\n",
              "      <th>Home</th>\n",
              "      <th>OppTeam</th>\n",
              "      <th>W/L</th>\n",
              "      <th>Tm</th>\n",
              "      <th>Opp</th>\n",
              "      <th>FG</th>\n",
              "      <th>FGA</th>\n",
              "      <th>FG%</th>\n",
              "      <th>3P</th>\n",
              "      <th>3PA</th>\n",
              "      <th>3P%</th>\n",
              "      <th>FT</th>\n",
              "      <th>FTA</th>\n",
              "      <th>FT%</th>\n",
              "      <th>ORB</th>\n",
              "      <th>TRB</th>\n",
              "      <th>AST</th>\n",
              "      <th>STL</th>\n",
              "      <th>BLK</th>\n",
              "      <th>TOV</th>\n",
              "      <th>PF</th>\n",
              "      <th></th>\n",
              "      <th>FG</th>\n",
              "      <th>FGA</th>\n",
              "      <th>FG%</th>\n",
              "      <th>3P</th>\n",
              "      <th>3PA</th>\n",
              "      <th>3P%</th>\n",
              "      <th>FT</th>\n",
              "      <th>FTA</th>\n",
              "      <th>FT%</th>\n",
              "      <th>ORB</th>\n",
              "      <th>TRB</th>\n",
              "      <th>AST</th>\n",
              "      <th>STL</th>\n",
              "      <th>BLK</th>\n",
              "      <th>TOV</th>\n",
              "      <th>PF</th>\n",
              "    </tr>\n",
              "  </thead>\n",
              "  <tbody>\n",
              "    <tr>\n",
              "      <th>0</th>\n",
              "      <td>2015</td>\n",
              "      <td>2014-10-30</td>\n",
              "      <td></td>\n",
              "      <td>NYK</td>\n",
              "      <td>L</td>\n",
              "      <td>90</td>\n",
              "      <td>95</td>\n",
              "      <td>32</td>\n",
              "      <td>70</td>\n",
              "      <td>.457</td>\n",
              "      <td>9</td>\n",
              "      <td>24</td>\n",
              "      <td>.375</td>\n",
              "      <td>17</td>\n",
              "      <td>20</td>\n",
              "      <td>.850</td>\n",
              "      <td>11</td>\n",
              "      <td>33</td>\n",
              "      <td>22</td>\n",
              "      <td>5</td>\n",
              "      <td>2</td>\n",
              "      <td>19</td>\n",
              "      <td>15</td>\n",
              "      <td></td>\n",
              "      <td>37</td>\n",
              "      <td>69</td>\n",
              "      <td>.536</td>\n",
              "      <td>6</td>\n",
              "      <td>12</td>\n",
              "      <td>.500</td>\n",
              "      <td>15</td>\n",
              "      <td>18</td>\n",
              "      <td>.833</td>\n",
              "      <td>9</td>\n",
              "      <td>35</td>\n",
              "      <td>30</td>\n",
              "      <td>9</td>\n",
              "      <td>1</td>\n",
              "      <td>15</td>\n",
              "      <td>26</td>\n",
              "    </tr>\n",
              "    <tr>\n",
              "      <th>1</th>\n",
              "      <td>2015</td>\n",
              "      <td>2014-10-31</td>\n",
              "      <td>@</td>\n",
              "      <td>CHI</td>\n",
              "      <td>W</td>\n",
              "      <td>114</td>\n",
              "      <td>108</td>\n",
              "      <td>41</td>\n",
              "      <td>104</td>\n",
              "      <td>.394</td>\n",
              "      <td>3</td>\n",
              "      <td>15</td>\n",
              "      <td>.200</td>\n",
              "      <td>29</td>\n",
              "      <td>33</td>\n",
              "      <td>.879</td>\n",
              "      <td>20</td>\n",
              "      <td>52</td>\n",
              "      <td>18</td>\n",
              "      <td>8</td>\n",
              "      <td>4</td>\n",
              "      <td>9</td>\n",
              "      <td>18</td>\n",
              "      <td></td>\n",
              "      <td>41</td>\n",
              "      <td>90</td>\n",
              "      <td>.456</td>\n",
              "      <td>13</td>\n",
              "      <td>31</td>\n",
              "      <td>.419</td>\n",
              "      <td>13</td>\n",
              "      <td>17</td>\n",
              "      <td>.765</td>\n",
              "      <td>11</td>\n",
              "      <td>42</td>\n",
              "      <td>25</td>\n",
              "      <td>4</td>\n",
              "      <td>14</td>\n",
              "      <td>19</td>\n",
              "      <td>28</td>\n",
              "    </tr>\n",
              "    <tr>\n",
              "      <th>2</th>\n",
              "      <td>2015</td>\n",
              "      <td>2014-11-04</td>\n",
              "      <td>@</td>\n",
              "      <td>POR</td>\n",
              "      <td>L</td>\n",
              "      <td>82</td>\n",
              "      <td>101</td>\n",
              "      <td>31</td>\n",
              "      <td>85</td>\n",
              "      <td>.365</td>\n",
              "      <td>9</td>\n",
              "      <td>21</td>\n",
              "      <td>.429</td>\n",
              "      <td>11</td>\n",
              "      <td>14</td>\n",
              "      <td>.786</td>\n",
              "      <td>13</td>\n",
              "      <td>41</td>\n",
              "      <td>18</td>\n",
              "      <td>5</td>\n",
              "      <td>3</td>\n",
              "      <td>14</td>\n",
              "      <td>19</td>\n",
              "      <td></td>\n",
              "      <td>37</td>\n",
              "      <td>75</td>\n",
              "      <td>.493</td>\n",
              "      <td>8</td>\n",
              "      <td>25</td>\n",
              "      <td>.320</td>\n",
              "      <td>19</td>\n",
              "      <td>25</td>\n",
              "      <td>.760</td>\n",
              "      <td>9</td>\n",
              "      <td>48</td>\n",
              "      <td>21</td>\n",
              "      <td>7</td>\n",
              "      <td>4</td>\n",
              "      <td>11</td>\n",
              "      <td>20</td>\n",
              "    </tr>\n",
              "  </tbody>\n",
              "</table>\n",
              "</div>"
            ],
            "text/plain": [
              "   Season        Date Home OppTeam W/L   Tm  Opp  ... ORB TRB AST STL BLK TOV  PF\n",
              "0    2015  2014-10-30          NYK   L   90   95  ...   9  35  30   9   1  15  26\n",
              "1    2015  2014-10-31    @     CHI   W  114  108  ...  11  42  25   4  14  19  28\n",
              "2    2015  2014-11-04    @     POR   L   82  101  ...   9  48  21   7   4  11  20\n",
              "\n",
              "[3 rows x 40 columns]"
            ]
          },
          "metadata": {
            "tags": []
          }
        },
        {
          "output_type": "display_data",
          "data": {
            "text/html": [
              "<div>\n",
              "<style scoped>\n",
              "    .dataframe tbody tr th:only-of-type {\n",
              "        vertical-align: middle;\n",
              "    }\n",
              "\n",
              "    .dataframe tbody tr th {\n",
              "        vertical-align: top;\n",
              "    }\n",
              "\n",
              "    .dataframe thead th {\n",
              "        text-align: right;\n",
              "    }\n",
              "</style>\n",
              "<table border=\"1\" class=\"dataframe\">\n",
              "  <thead>\n",
              "    <tr style=\"text-align: right;\">\n",
              "      <th></th>\n",
              "      <th>Season</th>\n",
              "      <th>Date</th>\n",
              "      <th>WTeamID</th>\n",
              "      <th>WScore</th>\n",
              "      <th>LTeamID</th>\n",
              "      <th>LScore</th>\n",
              "      <th>WLoc</th>\n",
              "      <th>WFGM</th>\n",
              "      <th>WFGA</th>\n",
              "      <th>WFGM3</th>\n",
              "      <th>WFGA3</th>\n",
              "      <th>WFTM</th>\n",
              "      <th>WFTA</th>\n",
              "      <th>WOR</th>\n",
              "      <th>WDR</th>\n",
              "      <th>WAst</th>\n",
              "      <th>WTO</th>\n",
              "      <th>WStl</th>\n",
              "      <th>WBlk</th>\n",
              "      <th>WPF</th>\n",
              "      <th>LFGM</th>\n",
              "      <th>LFGA</th>\n",
              "      <th>LFGM3</th>\n",
              "      <th>LFGA3</th>\n",
              "      <th>LFTM</th>\n",
              "      <th>LFTA</th>\n",
              "      <th>LOR</th>\n",
              "      <th>LDR</th>\n",
              "      <th>LAst</th>\n",
              "      <th>LTO</th>\n",
              "      <th>LStl</th>\n",
              "      <th>LBlk</th>\n",
              "      <th>LPF</th>\n",
              "    </tr>\n",
              "  </thead>\n",
              "  <tbody>\n",
              "    <tr>\n",
              "      <th>0</th>\n",
              "      <td>2015</td>\n",
              "      <td>2014-10-30</td>\n",
              "      <td>NYK</td>\n",
              "      <td>95</td>\n",
              "      <td>CLE</td>\n",
              "      <td>90</td>\n",
              "      <td>A</td>\n",
              "      <td>37</td>\n",
              "      <td>69</td>\n",
              "      <td>6</td>\n",
              "      <td>12</td>\n",
              "      <td>15</td>\n",
              "      <td>18</td>\n",
              "      <td>9</td>\n",
              "      <td>35</td>\n",
              "      <td>30</td>\n",
              "      <td>15</td>\n",
              "      <td>9</td>\n",
              "      <td>1</td>\n",
              "      <td>26</td>\n",
              "      <td>32</td>\n",
              "      <td>70</td>\n",
              "      <td>9</td>\n",
              "      <td>24</td>\n",
              "      <td>17</td>\n",
              "      <td>20</td>\n",
              "      <td>11</td>\n",
              "      <td>33</td>\n",
              "      <td>22</td>\n",
              "      <td>19</td>\n",
              "      <td>5</td>\n",
              "      <td>2</td>\n",
              "      <td>15</td>\n",
              "    </tr>\n",
              "    <tr>\n",
              "      <th>1</th>\n",
              "      <td>2015</td>\n",
              "      <td>2014-10-31</td>\n",
              "      <td>CLE</td>\n",
              "      <td>114</td>\n",
              "      <td>CHI</td>\n",
              "      <td>108</td>\n",
              "      <td>A</td>\n",
              "      <td>41</td>\n",
              "      <td>104</td>\n",
              "      <td>3</td>\n",
              "      <td>15</td>\n",
              "      <td>29</td>\n",
              "      <td>33</td>\n",
              "      <td>20</td>\n",
              "      <td>52</td>\n",
              "      <td>18</td>\n",
              "      <td>9</td>\n",
              "      <td>8</td>\n",
              "      <td>4</td>\n",
              "      <td>18</td>\n",
              "      <td>41</td>\n",
              "      <td>90</td>\n",
              "      <td>13</td>\n",
              "      <td>31</td>\n",
              "      <td>13</td>\n",
              "      <td>17</td>\n",
              "      <td>11</td>\n",
              "      <td>42</td>\n",
              "      <td>25</td>\n",
              "      <td>19</td>\n",
              "      <td>4</td>\n",
              "      <td>14</td>\n",
              "      <td>28</td>\n",
              "    </tr>\n",
              "    <tr>\n",
              "      <th>2</th>\n",
              "      <td>2015</td>\n",
              "      <td>2014-11-04</td>\n",
              "      <td>POR</td>\n",
              "      <td>101</td>\n",
              "      <td>CLE</td>\n",
              "      <td>82</td>\n",
              "      <td>H</td>\n",
              "      <td>37</td>\n",
              "      <td>75</td>\n",
              "      <td>8</td>\n",
              "      <td>25</td>\n",
              "      <td>19</td>\n",
              "      <td>25</td>\n",
              "      <td>9</td>\n",
              "      <td>48</td>\n",
              "      <td>21</td>\n",
              "      <td>11</td>\n",
              "      <td>7</td>\n",
              "      <td>4</td>\n",
              "      <td>20</td>\n",
              "      <td>31</td>\n",
              "      <td>85</td>\n",
              "      <td>9</td>\n",
              "      <td>21</td>\n",
              "      <td>11</td>\n",
              "      <td>14</td>\n",
              "      <td>13</td>\n",
              "      <td>41</td>\n",
              "      <td>18</td>\n",
              "      <td>14</td>\n",
              "      <td>5</td>\n",
              "      <td>3</td>\n",
              "      <td>19</td>\n",
              "    </tr>\n",
              "  </tbody>\n",
              "</table>\n",
              "</div>"
            ],
            "text/plain": [
              "   Season        Date WTeamID WScore LTeamID LScore  ... LDR LAst LTO LStl LBlk LPF\n",
              "0    2015  2014-10-30     NYK     95     CLE     90  ...  33   22  19    5    2  15\n",
              "1    2015  2014-10-31     CLE    114     CHI    108  ...  42   25  19    4   14  28\n",
              "2    2015  2014-11-04     POR    101     CLE     82  ...  41   18  14    5    3  19\n",
              "\n",
              "[3 rows x 33 columns]"
            ]
          },
          "metadata": {
            "tags": []
          }
        }
      ]
    },
    {
      "cell_type": "markdown",
      "metadata": {
        "id": "rW6iQfMvsRxZ"
      },
      "source": [
        "# END"
      ],
      "id": "rW6iQfMvsRxZ"
    }
  ]
}